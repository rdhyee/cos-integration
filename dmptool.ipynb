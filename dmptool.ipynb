{
 "cells": [
  {
   "cell_type": "markdown",
   "metadata": {},
   "source": [
    "# Goal\n",
    "\n",
    "Try out the capabilities of the [DMPTool API](https://github.com/CDLUC3/dmptool/wiki/API).\n",
    "\n",
    "I created a private DMP with id "
   ]
  },
  {
   "cell_type": "code",
   "execution_count": null,
   "metadata": {
    "collapsed": false
   },
   "outputs": [],
   "source": [
    "import requests\n",
    "import urlparse\n",
    "\n",
    "class DMPTool(object):\n",
    "    def __init__(self, token, prod=True):\n",
    "        self.token = token\n",
    "        self.prod = prod\n",
    "        if prod:\n",
    "            self.base_url = \"https://dmptool.org/api/v1/\"\n",
    "        else:\n",
    "            self.base_url = \"https://dmp2-staging.cdlib.org/api/v1/\"\n",
    "        self.headers = {'Authorization': 'Token token={}'.format(self.token)}\n",
    "                \n",
    "    def get_url(self, path, headers=None):\n",
    "        if headers is None:\n",
    "            headers = self.headers\n",
    "            \n",
    "        url = self.base_url + path\n",
    "        return requests.get(url, headers=headers)\n",
    "    \n",
    "    def plans(self, id_=None):\n",
    "        \"\"\"\n",
    "        https://dmptool.org/api/v1/plans\n",
    "        https://dmptool.org/api/v1/plans/:id\n",
    "        \"\"\"\n",
    "        \n",
    "        if id_ is None:\n",
    "            return self.get_url(\"plans\").json()\n",
    "        else:\n",
    "            return self.get_url(\"plans/{}\".format(id_)).json()\n",
    "                    \n",
    "    def plans_full(self, id_=None, format_='json'):\n",
    "    \n",
    "        if id_ is None:\n",
    "            # a json doc for to represent all public docs\n",
    "            # I **think** if we include token, will get only docs owned\n",
    "            return self.get_url(\"plans_full/\", headers={}).json()\n",
    "        else:\n",
    "            if format_ == 'json':\n",
    "                return self.get_url(\"plans_full/{}\".format(id_)).json()\n",
    "            elif format_ in ['pdf', 'docx']:\n",
    "                return self.get_url(\"plans_full/{}.{}\".format(id_, format_)).content\n",
    "            else: \n",
    "                return None\n",
    "\n",
    "    def plans_owned(self):\n",
    "        return self.get_url(\"plans_owned\").json()\n",
    "    \n",
    "    def plans_owned_full(self):\n",
    "        return self.get_url(\"plans_owned_full\").json()\n",
    "    \n",
    "    def plans_templates(self):\n",
    "        return self.get_url(\"plans_templates\").json()\n",
    "        \n",
    "    def institutions_plans_count(self):\n",
    "        \"\"\"\n",
    "        https://github.com/CDLUC3/dmptool/wiki/API#for-a-list-of-institutions-and-plans-count\n",
    "        \"\"\"\n",
    "        plans_counts = self.get_url(\"institutions_plans_count\").json()\n",
    "        return plans_counts\n",
    "\n",
    "    "
   ]
  },
  {
   "cell_type": "markdown",
   "metadata": {},
   "source": [
    "# How to get dmptool API token\n",
    "\n",
    "![How to get dmptool token](https://www.evernote.com/shard/s1/sh/e8ff5420-33ef-4ef1-b77f-99beb4297481/cb6ffa697576c241/res/f2acb1a1-5b54-4738-8887-89788452d75c/skitch.png?resizeSmall&width=832)\n",
    "\n"
   ]
  },
  {
   "cell_type": "code",
   "execution_count": null,
   "metadata": {
    "collapsed": false
   },
   "outputs": [],
   "source": [
    "import requests\n",
    "\n",
    "import numpy as np\n",
    "import pandas as pd\n",
    "from pandas import (DataFrame, Series)\n",
    "\n",
    "from settings import (DMPTOOL_TOKEN, STAGING_DMPTOOL_TOKEN)\n",
    "\n",
    "# https://dmptool.org/plans/16453.pdf\n",
    "# private\n",
    "\n",
    "MY_TEST_DMP_ID = 16453\n"
   ]
  },
  {
   "cell_type": "code",
   "execution_count": null,
   "metadata": {
    "collapsed": true
   },
   "outputs": [],
   "source": [
    "dmpt = DMPTool(DMPTOOL_TOKEN)\n",
    "stage_dmpt = DMPTool(STAGING_DMPTOOL_TOKEN, prod=False)"
   ]
  },
  {
   "cell_type": "code",
   "execution_count": null,
   "metadata": {
    "collapsed": false
   },
   "outputs": [],
   "source": [
    "# get counts for various institutions \n",
    "# https://via.hypothes.is/https://github.com/CDLUC3/dmptool/wiki/API#for-a-list-of-institutions-and-plans-count\n",
    "# curl -v -X GET \"https://dmptool.org/api/v1/institutions_plans_count\"\n",
    "\n",
    "#plans_counts = requests.get(\"https://dmptool.org/api/v1/institutions_plans_count\").json()\n",
    "\n",
    "plans_counts = dmpt.institutions_plans_count()\n",
    "\n",
    "df = DataFrame([r.get('institution') for r in plans_counts])\n",
    "df.head()"
   ]
  },
  {
   "cell_type": "code",
   "execution_count": null,
   "metadata": {
    "collapsed": false
   },
   "outputs": [],
   "source": [
    "df.sort_values(by='plans_count', ascending=False).head()"
   ]
  },
  {
   "cell_type": "code",
   "execution_count": null,
   "metadata": {
    "collapsed": false
   },
   "outputs": [],
   "source": [
    "# list of plans\n",
    "# curl -H  \"Authorization: Token token=token_number\" https://dmptool.org/api/v1/plans\n",
    "\n",
    "#headers = {'Authorization': 'Token token={}'.format(DMPTOOL_TOKEN)}\n",
    "#r = requests.get(\"https://dmptool.org/api/v1/plans\", headers=headers)\n",
    "#r.json()[:2]\n",
    "\n",
    "dmpt.plans()[:2]"
   ]
  },
  {
   "cell_type": "code",
   "execution_count": null,
   "metadata": {
    "collapsed": false
   },
   "outputs": [],
   "source": [
    "plans_df = DataFrame([r.get('plan') for r in dmpt.plans()])\n",
    "plans_df.head()"
   ]
  },
  {
   "cell_type": "code",
   "execution_count": null,
   "metadata": {
    "collapsed": false
   },
   "outputs": [],
   "source": [
    "# thought I'd be able to get a list of my own DMPs -- but no\n",
    "# only public dmps? https://dmptool.org/public_dmps?public%3Aall_scope=all&public%3Apage=6\n",
    "\n",
    "np.any(plans_df.owner.apply(lambda o: o.get('email')) == 'yee@berkeley.edu')"
   ]
  },
  {
   "cell_type": "code",
   "execution_count": null,
   "metadata": {
    "collapsed": false
   },
   "outputs": [],
   "source": [
    "# let's try to get a plan\n",
    "# curl -H  \"Authorization: Token token=token_number\" https://dmptool.org/api/v1/plans/:id\n",
    "\n",
    "headers = {'Authorization': 'Token token={}'.format(DMPTOOL_TOKEN)}\n",
    "r = requests.get(\"https://dmptool.org/api/v1/plans/{}\".format(MY_TEST_DMP_ID), headers=headers)\n",
    "r.json()\n"
   ]
  },
  {
   "cell_type": "code",
   "execution_count": null,
   "metadata": {
    "collapsed": false
   },
   "outputs": [],
   "source": [
    "dmpt.plans(MY_TEST_DMP_ID)"
   ]
  },
  {
   "cell_type": "code",
   "execution_count": null,
   "metadata": {
    "collapsed": false
   },
   "outputs": [],
   "source": [
    "# get the json rendition of my private plan\n",
    "\n",
    "headers = {'Authorization': 'Token token={}'.format(DMPTOOL_TOKEN)}\n",
    "\n",
    "r = requests.get(\"https://dmptool.org/api/v1/plans_full/{}\".format(MY_TEST_DMP_ID), headers=headers)\n",
    "r.json()"
   ]
  },
  {
   "cell_type": "code",
   "execution_count": null,
   "metadata": {
    "collapsed": false
   },
   "outputs": [],
   "source": [
    "dmpt.plans_full(MY_TEST_DMP_ID)"
   ]
  },
  {
   "cell_type": "code",
   "execution_count": null,
   "metadata": {
    "collapsed": true
   },
   "outputs": [],
   "source": [
    "# add .pdf to retrieve these file formats via the API\n",
    "\n",
    "headers = {'Authorization': 'Token token={}'.format(DMPTOOL_TOKEN)}\n",
    "\n",
    "r = requests.get(\"https://dmptool.org/api/v1/plans_full/{}.pdf\".format(MY_TEST_DMP_ID), headers=headers)"
   ]
  },
  {
   "cell_type": "code",
   "execution_count": null,
   "metadata": {
    "collapsed": false
   },
   "outputs": [],
   "source": [
    "dmpt.plans_full(MY_TEST_DMP_ID, 'pdf')"
   ]
  },
  {
   "cell_type": "code",
   "execution_count": null,
   "metadata": {
    "collapsed": false
   },
   "outputs": [],
   "source": [
    "dmpt.plans_full(MY_TEST_DMP_ID, 'docx')"
   ]
  },
  {
   "cell_type": "code",
   "execution_count": null,
   "metadata": {
    "collapsed": false
   },
   "outputs": [],
   "source": [
    "# plans_full\n",
    "\n",
    "r = requests.get(\"https://dmptool.org/api/v1/plans_full/\")"
   ]
  },
  {
   "cell_type": "code",
   "execution_count": null,
   "metadata": {
    "collapsed": false
   },
   "outputs": [],
   "source": [
    "len(r.json())"
   ]
  },
  {
   "cell_type": "code",
   "execution_count": null,
   "metadata": {
    "collapsed": false
   },
   "outputs": [],
   "source": [
    "# a json doc for to represent all public docs\n",
    "\n",
    "len(dmpt.plans_full())"
   ]
  },
  {
   "cell_type": "markdown",
   "metadata": {},
   "source": [
    "# Testing of access to private plans (2016.02.25)"
   ]
  },
  {
   "cell_type": "markdown",
   "metadata": {},
   "source": [
    "[Only return private plans (plans owned by the user associated with the AUTH token). · Issue #164 · CDLUC3/dmptool](https://github.com/CDLUC3/dmptool/issues/164#issuecomment-188744502)"
   ]
  },
  {
   "cell_type": "code",
   "execution_count": null,
   "metadata": {
    "collapsed": true
   },
   "outputs": [],
   "source": [
    "STAGING_DMP_PLAN_ID = 1534"
   ]
  },
  {
   "cell_type": "code",
   "execution_count": null,
   "metadata": {
    "collapsed": false
   },
   "outputs": [],
   "source": [
    "# let's try to get a plan\n",
    "# curl -H  \"Authorization: Token token=token_number\" https://dmptool.org/api/v1/plans/:id\n",
    "\n",
    "headers = {'Authorization': 'Token token={}'.format(STAGING_DMPTOOL_TOKEN)}\n",
    "r = requests.get(\"https://dmp2-staging.cdlib.org/api/v1/plans/{}\".format(STAGING_DMP_PLAN_ID), headers=headers)\n",
    "r.content"
   ]
  },
  {
   "cell_type": "code",
   "execution_count": null,
   "metadata": {
    "collapsed": false
   },
   "outputs": [],
   "source": [
    "stage_dmpt.plans(STAGING_DMP_PLAN_ID)"
   ]
  },
  {
   "cell_type": "code",
   "execution_count": null,
   "metadata": {
    "collapsed": false
   },
   "outputs": [],
   "source": [
    "# can get full private dmp from staging server\n",
    "headers = {'Authorization': 'Token token={}'.format(STAGING_DMPTOOL_TOKEN)}\n",
    "\n",
    "r = requests.get(\"https://dmp2-staging.cdlib.org/api/v1/plans_full/{}\".format(STAGING_DMP_PLAN_ID), headers=headers)\n",
    "r.json()"
   ]
  },
  {
   "cell_type": "code",
   "execution_count": null,
   "metadata": {
    "collapsed": false
   },
   "outputs": [],
   "source": [
    "stage_dmpt.plans_full(STAGING_DMP_PLAN_ID)"
   ]
  },
  {
   "cell_type": "code",
   "execution_count": null,
   "metadata": {
    "collapsed": false
   },
   "outputs": [],
   "source": [
    "# plans owned\n",
    "\n",
    "headers = {'Authorization': 'Token token={}'.format(STAGING_DMPTOOL_TOKEN)}\n",
    "\n",
    "r = requests.get(\"https://dmp2-staging.cdlib.org/api/v1/plans_owned\", headers=headers)\n",
    "r.json()"
   ]
  },
  {
   "cell_type": "code",
   "execution_count": null,
   "metadata": {
    "collapsed": false
   },
   "outputs": [],
   "source": [
    "stage_dmpt.plans_owned()"
   ]
  },
  {
   "cell_type": "code",
   "execution_count": null,
   "metadata": {
    "collapsed": false
   },
   "outputs": [],
   "source": [
    "# plans owned full\n",
    "\n",
    "headers = {'Authorization': 'Token token={}'.format(STAGING_DMPTOOL_TOKEN)}\n",
    "\n",
    "r = requests.get(\"https://dmp2-staging.cdlib.org/api/v1/plans_owned_full\", headers=headers)\n",
    "r.json()"
   ]
  },
  {
   "cell_type": "code",
   "execution_count": null,
   "metadata": {
    "collapsed": false
   },
   "outputs": [],
   "source": [
    "stage_dmpt.plans_owned_full()"
   ]
  },
  {
   "cell_type": "markdown",
   "metadata": {},
   "source": [
    "# Testing of access to private plans (2016.03.16)"
   ]
  },
  {
   "cell_type": "markdown",
   "metadata": {},
   "source": [
    "[Only return private plans (plans owned by the user associated with the AUTH token). · Issue #164 · CDLUC3/dmptool](https://github.com/CDLUC3/dmptool/issues/164#issuecomment-188744502)\n",
    "\n",
    "\n",
    "* https://github.com/CDLUC3/dmptool/wiki/API#for-a-specific-plan-with-all-related-attributes\n",
    "* https://github.com/CDLUC3/dmptool/wiki/API#for-a-list-of-plans-owned-or-co-owned-by-a-user\n",
    "* https://github.com/CDLUC3/dmptool/wiki/API#for-a-list-of-plans-and-all-related-attributes-owned-or-co-owned-by-a-user\n",
    "\n"
   ]
  },
  {
   "cell_type": "code",
   "execution_count": null,
   "metadata": {
    "collapsed": false
   },
   "outputs": [],
   "source": [
    "dmpt.plans_owned()"
   ]
  },
  {
   "cell_type": "code",
   "execution_count": null,
   "metadata": {
    "collapsed": false
   },
   "outputs": [],
   "source": [
    "dmpt.plans_owned_full()"
   ]
  },
  {
   "cell_type": "code",
   "execution_count": null,
   "metadata": {
    "collapsed": false
   },
   "outputs": [],
   "source": [
    "dmpt.plans_templates()"
   ]
  },
  {
   "cell_type": "code",
   "execution_count": null,
   "metadata": {
    "collapsed": true
   },
   "outputs": [],
   "source": []
  }
 ],
 "metadata": {
  "kernelspec": {
   "display_name": "Python 2",
   "language": "python",
   "name": "python2"
  },
  "language_info": {
   "codemirror_mode": {
    "name": "ipython",
    "version": 2
   },
   "file_extension": ".py",
   "mimetype": "text/x-python",
   "name": "python",
   "nbconvert_exporter": "python",
   "pygments_lexer": "ipython2",
   "version": "2.7.11"
  }
 },
 "nbformat": 4,
 "nbformat_minor": 0
}
