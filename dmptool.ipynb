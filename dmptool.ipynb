{
 "cells": [
  {
   "cell_type": "markdown",
   "metadata": {},
   "source": [
    "# Goal\n",
    "\n",
    "Try out the capabilities of the [DMPTool API](https://github.com/CDLUC3/dmptool/wiki/API).\n",
    "\n",
    "I created a private DMP with id "
   ]
  },
  {
   "cell_type": "markdown",
   "metadata": {},
   "source": [
    "# How to get dmptool API token\n",
    "\n",
    "![How to get dmptool token](https://www.evernote.com/shard/s1/sh/e8ff5420-33ef-4ef1-b77f-99beb4297481/cb6ffa697576c241/res/f2acb1a1-5b54-4738-8887-89788452d75c/skitch.png)\n",
    "\n"
   ]
  },
  {
   "cell_type": "code",
   "execution_count": 1,
   "metadata": {
    "collapsed": true
   },
   "outputs": [],
   "source": [
    "import requests\n",
    "\n",
    "import numpy as np\n",
    "import pandas as pd\n",
    "from pandas import (DataFrame, Series)\n",
    "\n",
    "\n",
    "from settings import DMPTOOL_TOKEN\n",
    "\n",
    "\n",
    "# https://dmptool.org/plans/16453.pdf\n",
    "# private\n",
    "\n",
    "MY_TEST_DMP_ID = 16453\n"
   ]
  },
  {
   "cell_type": "code",
   "execution_count": 2,
   "metadata": {
    "collapsed": false
   },
   "outputs": [
    {
     "data": {
      "text/html": [
       "<div style=\"max-height:1000px;max-width:1500px;overflow:auto;\">\n",
       "<table border=\"1\" class=\"dataframe\">\n",
       "  <thead>\n",
       "    <tr style=\"text-align: right;\">\n",
       "      <th></th>\n",
       "      <th>full_name</th>\n",
       "      <th>id</th>\n",
       "      <th>plans_count</th>\n",
       "    </tr>\n",
       "  </thead>\n",
       "  <tbody>\n",
       "    <tr>\n",
       "      <th>0</th>\n",
       "      <td>Non partner institution</td>\n",
       "      <td>0</td>\n",
       "      <td>3770</td>\n",
       "    </tr>\n",
       "    <tr>\n",
       "      <th>1</th>\n",
       "      <td>University of Virginia</td>\n",
       "      <td>2</td>\n",
       "      <td>370</td>\n",
       "    </tr>\n",
       "    <tr>\n",
       "      <th>2</th>\n",
       "      <td>University of California, San Diego</td>\n",
       "      <td>3</td>\n",
       "      <td>185</td>\n",
       "    </tr>\n",
       "    <tr>\n",
       "      <th>3</th>\n",
       "      <td>Smithsonian Institution</td>\n",
       "      <td>4</td>\n",
       "      <td>56</td>\n",
       "    </tr>\n",
       "    <tr>\n",
       "      <th>4</th>\n",
       "      <td>University of Illinois at Urbana-Champaign</td>\n",
       "      <td>5</td>\n",
       "      <td>321</td>\n",
       "    </tr>\n",
       "  </tbody>\n",
       "</table>\n",
       "</div>"
      ],
      "text/plain": [
       "                                    full_name  id  plans_count\n",
       "0                     Non partner institution   0         3770\n",
       "1                      University of Virginia   2          370\n",
       "2         University of California, San Diego   3          185\n",
       "3                     Smithsonian Institution   4           56\n",
       "4  University of Illinois at Urbana-Champaign   5          321"
      ]
     },
     "execution_count": 2,
     "metadata": {},
     "output_type": "execute_result"
    }
   ],
   "source": [
    "# get counts for various institutions \n",
    "# https://via.hypothes.is/https://github.com/CDLUC3/dmptool/wiki/API#for-a-list-of-institutions-and-plans-count\n",
    "# curl -v -X GET \"https://dmptool.org/api/v1/institutions_plans_count\"\n",
    "\n",
    "plans_counts = requests.get(\"https://dmptool.org/api/v1/institutions_plans_count\").json()\n",
    "\n",
    "df = DataFrame([r.get('institution') for r in plans_counts])\n",
    "df.head()"
   ]
  },
  {
   "cell_type": "code",
   "execution_count": 3,
   "metadata": {
    "collapsed": false
   },
   "outputs": [
    {
     "data": {
      "text/html": [
       "<div style=\"max-height:1000px;max-width:1500px;overflow:auto;\">\n",
       "<table border=\"1\" class=\"dataframe\">\n",
       "  <thead>\n",
       "    <tr style=\"text-align: right;\">\n",
       "      <th></th>\n",
       "      <th>full_name</th>\n",
       "      <th>id</th>\n",
       "      <th>plans_count</th>\n",
       "    </tr>\n",
       "  </thead>\n",
       "  <tbody>\n",
       "    <tr>\n",
       "      <th>0</th>\n",
       "      <td>Non partner institution</td>\n",
       "      <td>0</td>\n",
       "      <td>3770</td>\n",
       "    </tr>\n",
       "    <tr>\n",
       "      <th>1</th>\n",
       "      <td>University of Virginia</td>\n",
       "      <td>2</td>\n",
       "      <td>370</td>\n",
       "    </tr>\n",
       "    <tr>\n",
       "      <th>4</th>\n",
       "      <td>University of Illinois at Urbana-Champaign</td>\n",
       "      <td>5</td>\n",
       "      <td>321</td>\n",
       "    </tr>\n",
       "    <tr>\n",
       "      <th>64</th>\n",
       "      <td>University of North Texas</td>\n",
       "      <td>65</td>\n",
       "      <td>239</td>\n",
       "    </tr>\n",
       "    <tr>\n",
       "      <th>8</th>\n",
       "      <td>UCLA</td>\n",
       "      <td>9</td>\n",
       "      <td>217</td>\n",
       "    </tr>\n",
       "  </tbody>\n",
       "</table>\n",
       "</div>"
      ],
      "text/plain": [
       "                                     full_name  id  plans_count\n",
       "0                      Non partner institution   0         3770\n",
       "1                       University of Virginia   2          370\n",
       "4   University of Illinois at Urbana-Champaign   5          321\n",
       "64                   University of North Texas  65          239\n",
       "8                                         UCLA   9          217"
      ]
     },
     "execution_count": 3,
     "metadata": {},
     "output_type": "execute_result"
    }
   ],
   "source": [
    "df.sort('plans_count', ascending=False).head()"
   ]
  },
  {
   "cell_type": "code",
   "execution_count": 4,
   "metadata": {
    "collapsed": false
   },
   "outputs": [
    {
     "data": {
      "text/plain": [
       "[{u'plan': {u'created': u'02/17/2015',\n",
       "   u'id': 13982,\n",
       "   u'institution': u'University of California, Berkeley',\n",
       "   u'modified': u'02/17/2015',\n",
       "   u'name': u'Post-Disaster Capacity Recovery and its Effectiveness in the National Air Transportation System',\n",
       "   u'owner': {u'email': u'mhansen@ce.berkeley.edu',\n",
       "    u'full_name': u'Mark Hansen'},\n",
       "   u'solicitation_identifier': u'Unsolicited',\n",
       "   u'state': u'new',\n",
       "   u'template': {u'active': True,\n",
       "    u'name': u'NSF-ENG: Engineering',\n",
       "    u'review_type': u'no_review',\n",
       "    u'start_date': u'09/09/2011'},\n",
       "   u'visibility': u'institutional'}}]"
      ]
     },
     "execution_count": 4,
     "metadata": {},
     "output_type": "execute_result"
    }
   ],
   "source": [
    "# list of plans\n",
    "# curl -H  \"Authorization: Token token=token_number\" https://dmptool.org/api/v1/plans\n",
    "\n",
    "headers = {'Authorization': 'Token token={}'.format(DMPTOOL_TOKEN)}\n",
    "r = requests.get(\"https://dmptool.org/api/v1/plans\", headers=headers)\n",
    "r.json()[:2]"
   ]
  },
  {
   "cell_type": "code",
   "execution_count": 5,
   "metadata": {
    "collapsed": false
   },
   "outputs": [
    {
     "data": {
      "text/html": [
       "<div style=\"max-height:1000px;max-width:1500px;overflow:auto;\">\n",
       "<table border=\"1\" class=\"dataframe\">\n",
       "  <thead>\n",
       "    <tr style=\"text-align: right;\">\n",
       "      <th></th>\n",
       "      <th>created</th>\n",
       "      <th>id</th>\n",
       "      <th>institution</th>\n",
       "      <th>modified</th>\n",
       "      <th>name</th>\n",
       "      <th>owner</th>\n",
       "      <th>solicitation_identifier</th>\n",
       "      <th>state</th>\n",
       "      <th>template</th>\n",
       "      <th>visibility</th>\n",
       "    </tr>\n",
       "  </thead>\n",
       "  <tbody>\n",
       "    <tr>\n",
       "      <th>0</th>\n",
       "      <td>02/17/2015</td>\n",
       "      <td>13982</td>\n",
       "      <td>University of California, Berkeley</td>\n",
       "      <td>02/17/2015</td>\n",
       "      <td>Post-Disaster Capacity Recovery and its Effect...</td>\n",
       "      <td>{u'email': u'mhansen@ce.berkeley.edu', u'full_...</td>\n",
       "      <td>Unsolicited</td>\n",
       "      <td>new</td>\n",
       "      <td>{u'active': True, u'review_type': u'no_review'...</td>\n",
       "      <td>institutional</td>\n",
       "    </tr>\n",
       "  </tbody>\n",
       "</table>\n",
       "</div>"
      ],
      "text/plain": [
       "      created     id                         institution    modified  \\\n",
       "0  02/17/2015  13982  University of California, Berkeley  02/17/2015   \n",
       "\n",
       "                                                name  \\\n",
       "0  Post-Disaster Capacity Recovery and its Effect...   \n",
       "\n",
       "                                               owner solicitation_identifier  \\\n",
       "0  {u'email': u'mhansen@ce.berkeley.edu', u'full_...             Unsolicited   \n",
       "\n",
       "  state                                           template     visibility  \n",
       "0   new  {u'active': True, u'review_type': u'no_review'...  institutional  "
      ]
     },
     "execution_count": 5,
     "metadata": {},
     "output_type": "execute_result"
    }
   ],
   "source": [
    "plans_df = DataFrame([r.get('plan') for r in r.json()])\n",
    "plans_df.head()"
   ]
  },
  {
   "cell_type": "code",
   "execution_count": 6,
   "metadata": {
    "collapsed": false
   },
   "outputs": [
    {
     "data": {
      "text/plain": [
       "False"
      ]
     },
     "execution_count": 6,
     "metadata": {},
     "output_type": "execute_result"
    }
   ],
   "source": [
    "# thought I'd be able to get a list of my own DMPs -- but no\n",
    "# only public dmps? https://dmptool.org/public_dmps?public%3Aall_scope=all&public%3Apage=6\n",
    "\n",
    "np.any(plans_df.owner.apply(lambda o: o.get('email')) == 'yee@berkeley.edu')"
   ]
  },
  {
   "cell_type": "code",
   "execution_count": 7,
   "metadata": {
    "collapsed": false
   },
   "outputs": [
    {
     "data": {
      "text/plain": [
       "'{\"plan\":{\"id\":16453,\"name\":\"Infrastructure for data science instruction in DH\",\"visibility\":\"private\",\"created\":\"08/08/2015\",\"modified\":\"09/11/2015\",\"owner\":{\"full_name\":\"Raymond Yee\",\"email\":\"yee@berkeley.edu\"},\"template\":{\"name\":\"NEH-ODH: Office of Digital Humanities\",\"active\":true,\"start_date\":\"10/14/2011\",\"review_type\":\"no_review\"},\"state\":\"new\",\"institution\":\"University of California, Berkeley\"}}'"
      ]
     },
     "execution_count": 7,
     "metadata": {},
     "output_type": "execute_result"
    }
   ],
   "source": [
    "# let's try to get a plan\n",
    "# curl -H  \"Authorization: Token token=token_number\" https://dmptool.org/api/v1/plans/:id\n",
    "\n",
    "headers = {'Authorization': 'Token token={}'.format(DMPTOOL_TOKEN)}\n",
    "r = requests.get(\"https://dmptool.org/api/v1/plans/{}\".format(MY_TEST_DMP_ID), headers=headers)\n",
    "r.content"
   ]
  },
  {
   "cell_type": "code",
   "execution_count": 8,
   "metadata": {
    "collapsed": false
   },
   "outputs": [
    {
     "data": {
      "text/plain": [
       "\"500 Internal Server Error\\nIf you are the administrator of this website, then please read this web application's log file and/or the web server's log file to find out what went wrong.\""
      ]
     },
     "execution_count": 8,
     "metadata": {},
     "output_type": "execute_result"
    }
   ],
   "source": [
    "headers = {'Authorization': 'Token token={}'.format(DMPTOOL_TOKEN)}\n",
    "r = requests.get(\"https://dmptool.org/api/v1/plans/{}.pdf\".format(MY_TEST_DMP_ID, 'pdf'), headers=headers)\n",
    "r.content"
   ]
  },
  {
   "cell_type": "code",
   "execution_count": 9,
   "metadata": {
    "collapsed": false
   },
   "outputs": [],
   "source": [
    "# let's retrieve the contents of the plan\n",
    "# get the pdf, docx, json\n",
    "\n",
    "headers = {'Authorization': 'Token token={}'.format(DMPTOOL_TOKEN)}\n",
    "\n",
    "r = requests.get(\"https://dmptool.org/plans/{}.pdf\".format(MY_TEST_DMP_ID), headers=headers)"
   ]
  },
  {
   "cell_type": "code",
   "execution_count": 10,
   "metadata": {
    "collapsed": false
   },
   "outputs": [
    {
     "data": {
      "text/plain": [
       "'<!DOCTYPE html>\\n<html lang=\"en\">\\n  <head>\\n    <title>Home: DMPTool</title>\\n    <link href=\"/assets/application-62c0347cf74f08710ce5a78ddfab2d41.css\" media=\"all\" rel=\"stylesheet\" />\\n    <script src=\"/assets/application-f3bc8eccc5c06fdffbb15c9be8e6fd77.js\"></script>\\n    <link href=\"/assets/favicon-e50590be72a32a77e25d4fd9469f4408.ico\" rel=\"shortcut icon\" type=\"image/vnd.microsoft.icon\" />\\n    <meta content=\"authenticity_token\" name=\"csrf-param\" />\\n<meta content=\"x20WNor1gPgty2yHuRIyvlOj0ki1n7sr4z4MkolKGdI=\" name=\"csrf-token\" />\\n    <!--[if lt IE 9]>\\n\\t<script src=\"/assets/javascripts/html5shiv.js\"></script>\\n<![endif]-->\\n    <script>\\n    \\t/* Test for Safari */\\n    \\tif (navigator.userAgent.match(/AppleWebKit/) && ! navigator.userAgent.match(/Chrome/)) {\\n    \\t\\t/* include safari stylesheet*/\\n   \\t\\t\\tdocument.write(\\'<link rel=\"stylesheet\" media=\"all\" href=\"/stylesheets/safari.css\" />\\');\\n\\t\\t\\t}\\n\\t\\t\\t/* Test for Chrome */\\n\\t\\t\\tif (navigator.userAgent.match(/Chrome/)) {\\n\\t\\t\\t\\t/* include chrome stylesheet */\\n   \\t\\t\\tdocument.write(\\'<link rel=\"stylesheet\" media=\"all\" href=\"/stylesheets/chrome.css\" />\\');\\n\\t\\t\\t}\\n    </script>\\n    \\n\\n   \\n    <!--[if IE 8]><link rel=\"stylesheet\" media=\"all\" href=\"/stylesheets/ie.css\" /><![endif]-->\\n    <!--[if IE 7]><link rel=\"stylesheet\" media=\"all\" href=\"/stylesheets/ie.css\" /><![endif]-->\\n    <script>\\n  (function(i,s,o,g,r,a,m){i[\\'GoogleAnalyticsObject\\']=r;i[r]=i[r]||function(){\\n    (i[r].q=i[r].q||[]).push(arguments)},i[r].l=1*new Date();a=s.createElement(o),\\n      m=s.getElementsByTagName(o)[0];a.async=1;a.src=g;m.parentNode.insertBefore(a,m)\\n  })(window,document,\\'script\\',\\'//www.google-analytics.com/analytics.js\\',\\'ga\\');\\n\\n  ga(\\'create\\', \\'UA-30638119-10\\', \\'dmptool.org\\');\\n  ga(\\'send\\', \\'pageview\\');\\n\\n</script>\\n  </head>\\n  <body>\\n  <header class=\"header container\">\\n  <a class=\"logo\" href=\"/\" title=\"DMPTool Home\"><img alt=\"DMPTOOL\" height=\"25\" src=\"/assets/dmp_logo-99acd643992bd7f72d552335dae6f2de.png\" width=\"146\" /></a>\\n  <div class=\"welcome\">\\n    <p>\\n      </p>\\n  </div>\\n  <nav class=\"navbar\">\\n    <ul class=\"nav\">\\n      <li class=\"nav-home current\"><a href=\"/\" title=\"Home\">Home</a></li>\\n      <li class=\"nav-guidance\"><a href=\"/guidance\" title=\"DMP Requirements\">DMP Requirements</a></li>\\n      <li class=\"nav-public\">\\n        <a href=\"/public_dmps\" title=\"Sample DMPs\">Public DMPs</a>\\n      </li>\\n      <li class=\"nav-new\"><a href=\"http://blog.dmptool.org\" target=\"_blank\" title=\"News\">News</a></li>\\n      <li class=\"nav-help\"><a href=\"/help\" title=\"Help\">Help</a></li>\\n      <li class=\"nav-contact\"><a href=\"/contact\" title=\"Contact Us\">Contact Us</a></li>\\n      <li class=\"nav-about parent\"><a href=\"/about\" title=\"About\">About</a>\\n      \\t<ul class=\"children right\">\\n      \\t\\t<li><a href=\"http://dmptool.askbot.com/\" target=\"_blank\" title=\"FAQ\">FAQ</a></li>\\n      \\t\\t<li><a href=\"/video\" title=\"Video\">Video</a></li>\\n      \\t\\t<li><a href=\"/partners\" title=\"Partner Institutions\">Partner Institutions</a></li>\\n      \\t</ul>\\n      </li>\\n      <li class=\"login\">\\n        <a href=\"/user_sessions/institution\"><span class=\"icon user-login\"></span>Log In</a>\\n        </li>\\n    </ul>\\n  </nav>\\n</header>\\n\\n  <div class=\"container\">\\n\\n    <div>\\n      <div class=\"alert alert-error fade in\">\\n        <button class=\"close\" data-dismiss=\"alert\">\\xc3\\x97</button>\\n        You don&#39;t have access to this content.\\n      </div>\\n</div>\\n\\n\\n\\n    <div class=\"banner row-fluid\">\\n\\t<h1>Data Management Planning Tool</h1>\\n\\t<p><strong>Create, review, and share data management plans</strong> that meet institutional and funder requirements.</p>\\n\\t<a class=\"btn btn-large\" href=\"/user_sessions/institution\">Get Started</a>\\n</div>\\n<div class=\"buckets-header row-fluid\">\\n  <div class=\"span4\">\\n  \\t<h2><span class=\"icon public\"></span>Public DMPs</h2>\\n  </div>\\n  <div class=\"span4\">\\n  \\t<h2><span class=\"icon news\"></span>DMPTool News</h2>\\n  </div>\\n  <div class=\"span4\">\\n  \\t<h2><span class=\"icon help\"></span>DMPTool Help</h2>\\n  </div>\\n</div>\\n<div class=\"buckets row-fluid\">\\n  <div class=\"data_management_plans span4\">\\n    <p>List of sample data management plans provided by DMPTool users.</p>\\n<ul>\\n    <li><a href=\"/plans/8273.pdf\">A unified approach to preserving cultural software objects and  their development histories </a></li>\\n    <li><a href=\"/plans/15548.pdf\">Acequia Model Project Environmental Decision Support Tool</a></li>\\n    <li><a href=\"/plans/8332.pdf\">Arthropod responses to grassland nutrient limitation</a></li>\\n</ul>\\n<a class=\"btn btn-gray\" href=\"/public_dmps\">View All</a>\\n\\n  </div>\\n  <div class=\"dmp_tool_news span4\">\\n    <p>Latest information about data management and the DMPTool.</p>\\n    <ul>\\n            <li><a href=\"http://blog.dmptool.org/2015/10/26/new-nsf-bio-template/\" target=\"_blank\">New NSF-BIO template</a></li>\\n            <li><a href=\"http://blog.dmptool.org/2015/10/09/new-doe-generic-template/\" target=\"_blank\">New DOE \\xe2\\x80\\x9cGeneric\\xe2\\x80\\x9d template</a></li>\\n            <li><a href=\"http://blog.dmptool.org/2015/08/18/new-template-nih-genomic-data-sharing/\" target=\"_blank\">New template: NIH Genomic Data Sharing</a></li>\\n            <li><a href=\"http://blog.dmptool.org/2015/05/20/imls/\" target=\"_blank\">New templates for IMLS</a></li>\\n            <li><a href=\"http://blog.dmptool.org/2015/05/14/usda-and-noaa/\" target=\"_blank\">Two New Templates: NIFA and NOAA</a></li>\\n    </ul>\\n<a class=\"btn btn-gray\" href=\"http://blog.dmptool.org\" target=\"_blank\">More News</a>\\n\\n  </div>\\n  <div class=\"how_to_use span4\">\\n    <p>Overview of how to use the tool, plus resources and guidance on data management.</p>\\n<ul>\\n\\t<li><a href=\"http://dmptool.askbot.com\">Frequently Asked Questions</a></li>\\n\\t<li><a href=\"/quickstartguide/\">Create a DMP</a></li>\\n\\t<li><a href=\"https://github.com/CDLUC3/dmptool/wiki/Help-for-Administrators\">Administer the DMPTool</a></li>\\n\\t<li><a href=\"/dm_guidance\">Data management guidance</a></li>\\n\\t<li><a href=\"/community_resources\">Community resources</a></li>\\n</ul>\\n<a class=\"btn btn-gray\" href=\"/help\">View All</a>\\n  </div>\\n</div>\\n\\n  </div>\\n\\n  <footer class=\"footer container\">\\n\\t<div class=\"row-fluid\">\\n\\t\\t<div class=\"copyright span7\">\\n\\t\\t\\t<p>DMPTOOL is a service of the \\n\\t\\t\\t<a href=\"http://www.cdlib.org/services/uc3\" target=\"_blank\" title=\"University of California Curation Center\">University of California Curation Center</a> \\n\\t\\t\\tof the \\n\\t\\t  <a href=\"http://cdlib.org\" target=\"_blank\" title=\"California Digital Libary\">California Digital Library</a><br/>\\n\\t\\t  Copyright &copy; 2010-2015 The Regents of the University of California</p>\\n\\t\\t</div>\\n\\t\\t<div class=\"footer-links span5\">\\n\\t\\t\\t<div class=\"footer-feeds\">\\n\\t\\t\\t\\t<a class=\"icon facebook\" href=\"https://www.facebook.com/DMPTool\" target=\"_blank\" title=\"Follow the California Digital Library on Facebook\"></a>\\n\\t\\t\\t\\t<a class=\"icon twitter\" href=\"https://twitter.com/TheDMPTool\" target=\"_blank\" title=\"Follow the California Digital Library on Twitter\"></a>\\n\\t\\t\\t\\t<a class=\"icon rss\" href=\"https://blog.dmptool.org/feed\" target=\"_blank\" title=\"California Digital Library RSS Feed\"></a>\\n\\t\\t\\t</div>\\n\\t\\t\\t<p><a href=\"/privacy\" title=\"Privacy Policy\">Privacy Policy</a> |\\n\\t\\t\\t<a href=\"http://www.ucop.edu/electronic-accessibility/initiative/policy.html\" title=\"Accessibility Policy\">Accessibility Policy</a> |\\n\\t\\t\\t<a href=\"/terms_of_use\" title=\"Terms of Use\">Terms of Use</a> |\\n\\t\\t\\t<a href=\"/contact\" title=\"Contact Us\">Contact Us</a> |\\n\\t\\t\\t<a href=\"/about\" title=\"About the California Digital Library Data Management Tool\">About</a></p>\\n\\t\\t</div>\\n\\t</div>\\n</footer>\\n\\n  </body>\\n</html>'"
      ]
     },
     "execution_count": 10,
     "metadata": {},
     "output_type": "execute_result"
    }
   ],
   "source": [
    "r.content"
   ]
  },
  {
   "cell_type": "code",
   "execution_count": 11,
   "metadata": {
    "collapsed": false
   },
   "outputs": [],
   "source": [
    "# get the json rendition of my private plan\n",
    "\n",
    "headers = {'Authorization': 'Token token={}'.format(DMPTOOL_TOKEN)}\n",
    "\n",
    "r = requests.get(\"https://dmptool.org/api/v1/plans_full/{}\".format(MY_TEST_DMP_ID), headers=headers)"
   ]
  },
  {
   "cell_type": "code",
   "execution_count": 12,
   "metadata": {
    "collapsed": false
   },
   "outputs": [
    {
     "data": {
      "text/plain": [
       "{u'plan': {u'created': u'08/08/2015',\n",
       "  u'id': 16453,\n",
       "  u'institution': u'University of California, Berkeley',\n",
       "  u'modified': u'09/11/2015',\n",
       "  u'name': u'Infrastructure for data science instruction in DH',\n",
       "  u'owner': {u'email': u'yee@berkeley.edu', u'full_name': u'Raymond Yee'},\n",
       "  u'state': u'new',\n",
       "  u'template': {u'active': True,\n",
       "   u'name': u'NEH-ODH: Office of Digital Humanities',\n",
       "   u'requirements': [{u'requirement': {u'response': u'I take all responsibility.\\r\\n',\n",
       "      u'text_brief': u'Roles and responsibilities',\n",
       "      u'text_full': u'The Data Management Plan should outline the rights and obligations of all parties with respect to their roles and responsibilities in the management and retention of research data. It should also consider changes to roles and responsibilities that will occur should a project director or co-project director leave the institution or project.'}},\n",
       "    {u'requirement': {u'response': u\"Lots of data, just don't know what yet.\\r\\n\",\n",
       "      u'text_brief': u'Expected data',\n",
       "      u'text_full': u'The Data Management Plan should describe the types of data, samples, physical collections, software, curriculum materials, and other materials to be produced in the course of the project. It should then describe the expected types of data to be retained.'}},\n",
       "    {u'requirement': {u'response': u'Forever -- is that long enough?\\r\\n',\n",
       "      u'text_brief': u'Period of data retention',\n",
       "      u'text_full': u'NEH is committed to timely and rapid data distribution. However, it recognizes that types of data can vary widely and that acceptable norms also vary by discipline. It is strongly committed, however, to the underlying principle of timely access. In their DMP applicants should address how timely access will be assured.'}},\n",
       "    {u'requirement': {u'response': u\"Don't worry about format -- it'll be clear as mud.\\r\\n\",\n",
       "      u'text_brief': u'Data formats and dissemination',\n",
       "      u'text_full': u'The Data Management Plan should describe data formats, media, and dissemination approaches that will be used to make data and metadata available to others. Policies for public access and sharing should be described, including provisions for appropriate protection of privacy, confidentiality, security, intellectual property, or other rights or requirements. Research centers and major partnerships with industry or other user communities must also address how data are to be shared and managed with partners, center members, and other major stakeholders.'}},\n",
       "    {u'requirement': {u'response': u'\\r\\n\\tEZID, a service from the University of California Curation Center, facilitates data sharing, data reuse, data citation, and data attribution, and creates Digital Object Identifiers (DOI) for research data.\\r\\n\\tThe Merritt Repository can restrict access to data to just the depositor or to a research group, or make data publicly available. Research data and records will be maintained for as long as they are of continuing value to the researchers and project collaborators. Data will be retained subject to the University of California retention policy.\\r\\n\\r\\n',\n",
       "      u'text_brief': u'Data storage and preservation of access',\n",
       "      u'text_full': u'The Data Management Plan should describe physical and cyber resources and facilities that will be used for the effective preservation and storage of research data. These can include third party facilities and repositories.\"'}}],\n",
       "   u'review_type': u'no_review',\n",
       "   u'start_date': u'10/14/2011'},\n",
       "  u'visibility': u'private'}}"
      ]
     },
     "execution_count": 12,
     "metadata": {},
     "output_type": "execute_result"
    }
   ],
   "source": [
    "r.json()"
   ]
  },
  {
   "cell_type": "code",
   "execution_count": 13,
   "metadata": {
    "collapsed": true
   },
   "outputs": [],
   "source": [
    "# plans_full\n",
    "\n",
    "r = requests.get(\"https://dmptool.org/api/v1/plans_full/\")"
   ]
  },
  {
   "cell_type": "code",
   "execution_count": 14,
   "metadata": {
    "collapsed": false
   },
   "outputs": [
    {
     "data": {
      "text/plain": [
       "56"
      ]
     },
     "execution_count": 14,
     "metadata": {},
     "output_type": "execute_result"
    }
   ],
   "source": [
    "len(r.json())"
   ]
  }
 ],
 "metadata": {
  "kernelspec": {
   "display_name": "Python 2",
   "language": "python",
   "name": "python2"
  },
  "language_info": {
   "codemirror_mode": {
    "name": "ipython",
    "version": 2
   },
   "file_extension": ".py",
   "mimetype": "text/x-python",
   "name": "python",
   "nbconvert_exporter": "python",
   "pygments_lexer": "ipython2",
   "version": "2.7.10"
  }
 },
 "nbformat": 4,
 "nbformat_minor": 0
}
