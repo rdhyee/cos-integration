{
 "cells": [
  {
   "cell_type": "code",
   "execution_count": 4,
   "metadata": {
    "collapsed": true
   },
   "outputs": [],
   "source": [
    "from IPython.display import (display, HTML, Javascript)"
   ]
  },
  {
   "cell_type": "code",
   "execution_count": 5,
   "metadata": {
    "collapsed": false
   },
   "outputs": [
    {
     "data": {
      "application/javascript": [
       "\n",
       "var knockout_url = \"https://cdnjs.cloudflare.com/ajax/libs/knockout/3.4.0/knockout-debug.js\"\n",
       "//var knockout_url = \"https://cdnjs.cloudflare.com/ajax/libs/knockout/3.4.0/knockout-min.js\""
      ],
      "text/plain": [
       "<IPython.core.display.Javascript object>"
      ]
     },
     "metadata": {},
     "output_type": "display_data"
    }
   ],
   "source": [
    "%%javascript\n",
    "\n",
    "var knockout_url = \"https://cdnjs.cloudflare.com/ajax/libs/knockout/3.4.0/knockout-debug.js\"\n",
    "//var knockout_url = \"https://cdnjs.cloudflare.com/ajax/libs/knockout/3.4.0/knockout-min.js\""
   ]
  },
  {
   "cell_type": "code",
   "execution_count": 6,
   "metadata": {
    "collapsed": false
   },
   "outputs": [
    {
     "data": {
      "text/html": [
       "\n",
       "<style type=\"text/css\">\n",
       "    #i4d41e1a8-1295-4549-9f9c-69cf5f994097 {  }\n",
       "</style>\n",
       "\n",
       "<script type=\"text/javascript\">\n",
       "\n",
       "\n",
       "    // load css if it's not already there: http://stackoverflow.com/a/4724676/7782\n",
       "    function loadcss(url) {\n",
       "        if (!$(\"link[href='\" + url + \"']\").length)\n",
       "            $('<link href=\"' + url + '\" rel=\"stylesheet\">').appendTo(\"head\");\n",
       "    }\n",
       "\n",
       "    require.config({\n",
       "      paths: {\n",
       "        'knockout': \"https://cdnjs.cloudflare.com/ajax/libs/knockout/3.4.0/knockout-debug\"\n",
       "      }\n",
       "    });\n",
       "\n",
       "    require([\"knockout\"], function(ko) {\n",
       "    \n",
       "        function VM() {\n",
       "          this.firstName = ko.observable(\"John\");\n",
       "          this.lastName = ko.observable(\"Wayne\");\n",
       "        };\n",
       "\n",
       "\n",
       "        // $osf.applyBindings(ew, '#evernoteWidget')\n",
       "\n",
       "        ko.applyBindings(new VM(), $('#i4d41e1a8-1295-4549-9f9c-69cf5f994097')[0]);\n",
       "    });\n",
       "\n",
       "</script>\n",
       "\n",
       "<div id=\"i4d41e1a8-1295-4549-9f9c-69cf5f994097\">\n",
       " <p>\n",
       "  First name: <span data-bind=\"text: firstName\"></span>\n",
       "</p>\n",
       "<p>\n",
       "  Last name: <span data-bind=\"text: lastName\"></span>\n",
       "</p>\n",
       "\n",
       "<p>\n",
       "  First name: <input data-bind=\"value: firstName\" />\n",
       "</p>\n",
       "<p>\n",
       "  Last name: <input data-bind=\"value: lastName\" />\n",
       "</p>\n",
       "</div>"
      ],
      "text/plain": [
       "<IPython.core.display.HTML object>"
      ]
     },
     "execution_count": 6,
     "metadata": {},
     "output_type": "execute_result"
    }
   ],
   "source": [
    "# tooltip rewritten as HTML\n",
    "\n",
    "# will normalize.css fix this problem?\n",
    "# no, not now\n",
    "\n",
    "from IPython.display import HTML, display, clear_output\n",
    "import uuid\n",
    "\n",
    "import jinja2\n",
    "from jinja2 import Template\n",
    "\n",
    "div_id = 'i' + str(uuid.uuid4())\n",
    "\n",
    "jquery_ui_url='https://code.jquery.com/ui/1.11.4/jquery-ui.min'\n",
    "knockout_url='https://cdnjs.cloudflare.com/ajax/libs/knockout/3.4.0/knockout-debug'\n",
    "\n",
    "JS = u\"\"\"\n",
    "<script type=\"text/javascript\">\n",
    "\n",
    "\n",
    "    // load css if it's not already there: http://stackoverflow.com/a/4724676/7782\n",
    "    function loadcss(url) {\n",
    "        if (!$(\"link[href='\" + url + \"']\").length)\n",
    "            $('<link href=\"' + url + '\" rel=\"stylesheet\">').appendTo(\"head\");\n",
    "    }\n",
    "\n",
    "    require.config({\n",
    "      paths: {\n",
    "        'knockout': \"{{knockout_url}}\"\n",
    "      }\n",
    "    });\n",
    "\n",
    "    require([\"knockout\"], function(ko) {\n",
    "    \n",
    "        function VM() {\n",
    "          this.firstName = ko.observable(\"John\");\n",
    "          this.lastName = ko.observable(\"Wayne\");\n",
    "        };\n",
    "\n",
    "\n",
    "        // $osf.applyBindings(ew, '#evernoteWidget')\n",
    "\n",
    "        ko.applyBindings(new VM(), $('#{{div_id}}')[0]);\n",
    "    });\n",
    "\n",
    "</script>\n",
    "\"\"\"\n",
    "\n",
    "# demonstrates interference from .rendered_html CSS\n",
    "\n",
    "CSS = \"\"\"\n",
    "<style type=\"text/css\">\n",
    "    #{{div_id}} {  }\n",
    "</style>\n",
    "\"\"\"\n",
    "\n",
    "HTML_ = \"\"\"\n",
    "<div id=\"{{div_id}}\">\n",
    " <p>\n",
    "  First name: <span data-bind=\"text: firstName\"></span>\n",
    "</p>\n",
    "<p>\n",
    "  Last name: <span data-bind=\"text: lastName\"></span>\n",
    "</p>\n",
    "\n",
    "<p>\n",
    "  First name: <input data-bind=\"value: firstName\" />\n",
    "</p>\n",
    "<p>\n",
    "  Last name: <input data-bind=\"value: lastName\" />\n",
    "</p>\n",
    "</div>\n",
    "\"\"\"\n",
    "\n",
    "template = Template(CSS + JS + HTML_)\n",
    "HTML(template.render(div_id=div_id,\n",
    "                     knockout_url=knockout_url\n",
    "                    ))\n",
    "\n"
   ]
  }
 ],
 "metadata": {
  "kernelspec": {
   "display_name": "Python 2",
   "language": "python",
   "name": "python2"
  },
  "language_info": {
   "codemirror_mode": {
    "name": "ipython",
    "version": 2
   },
   "file_extension": ".py",
   "mimetype": "text/x-python",
   "name": "python",
   "nbconvert_exporter": "python",
   "pygments_lexer": "ipython2",
   "version": "2.7.11"
  }
 },
 "nbformat": 4,
 "nbformat_minor": 0
}
