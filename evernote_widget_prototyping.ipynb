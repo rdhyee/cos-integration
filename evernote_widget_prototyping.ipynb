{
 "cells": [
  {
   "cell_type": "markdown",
   "metadata": {},
   "source": [
    "# ipywidgets learning"
   ]
  },
  {
   "cell_type": "markdown",
   "metadata": {},
   "source": [
    "Goal:  build an interface for programming Evernote using IPython widgets.\n",
    "\n",
    "Let me list the relevant tutorial materials:\n",
    "\n",
    "* [ipywidgets/Index.ipynb at master · ipython/ipywidgets](https://github.com/ipython/ipywidgets/blob/master/examples/notebooks/Index.ipynb)"
   ]
  },
  {
   "cell_type": "code",
   "execution_count": null,
   "metadata": {
    "collapsed": true
   },
   "outputs": [],
   "source": [
    "from __future__ import print_function\n",
    "\n",
    "from ipywidgets import (interact, interactive, fixed)\n",
    "import ipywidgets as widgets\n",
    "\n",
    "from IPython.display import (HTML, display, Javascript)\n",
    "\n",
    "# for function annotation in Python 3\n",
    "from IPython.utils.py3compat import annotate"
   ]
  },
  {
   "cell_type": "markdown",
   "metadata": {},
   "source": [
    "What is the best way to get a list of widgets?  According to [ipywidgets/Widget List.ipynb at master · ipython/ipywidgets](https://github.com/ipython/ipywidgets/blob/master/examples/notebooks/Widget%20List.ipynb):\n",
    "\n",
    "```Python\n",
    "import ipywidgets as widgets\n",
    "widgets.Widget.widget_types.values()\n",
    "```\n",
    "\n"
   ]
  },
  {
   "cell_type": "code",
   "execution_count": null,
   "metadata": {
    "collapsed": false
   },
   "outputs": [],
   "source": [
    "widgets.Widget.widget_types.values()"
   ]
  },
  {
   "cell_type": "code",
   "execution_count": null,
   "metadata": {
    "collapsed": false
   },
   "outputs": [],
   "source": [
    "widgets.Widget.widget_types.values()[0].__name__"
   ]
  },
  {
   "cell_type": "code",
   "execution_count": null,
   "metadata": {
    "collapsed": false
   },
   "outputs": [],
   "source": [
    "import ipywidgets as widgets\n",
    "[w.__name__ for w in widgets.Widget.widget_types.values()]"
   ]
  },
  {
   "cell_type": "code",
   "execution_count": null,
   "metadata": {
    "collapsed": false
   },
   "outputs": [],
   "source": [
    "standard_handlers = set(['on_displayed', 'on_msg', 'on_trait_change', 'on_widget_constructed'])\n",
    "\n",
    "# It seems one will use on_trait_change a lot. I'll need to learn more the other three standard ones\n",
    "# extra handlers: on_msg, on_displayed, on_widget_constructed\n",
    "\n",
    "\n",
    "# Text -> on_submit\n",
    "# Button -> on_click\n",
    "\n",
    "for w in widgets.Widget.widget_types.values():\n",
    "    print ((w,set([m for m in dir(w) if m.startswith(\"on_\")]) - standard_handlers))"
   ]
  },
  {
   "cell_type": "code",
   "execution_count": null,
   "metadata": {
    "collapsed": false
   },
   "outputs": [],
   "source": [
    "dir(widgets)"
   ]
  },
  {
   "cell_type": "markdown",
   "metadata": {},
   "source": [
    "## interact"
   ]
  },
  {
   "cell_type": "code",
   "execution_count": null,
   "metadata": {
    "collapsed": false
   },
   "outputs": [],
   "source": [
    "import math\n",
    "i = interact(lambda x: math.factorial(x),\n",
    "         x=widgets.IntSlider(min=0,max=2000,step=1,value=10));\n"
   ]
  },
  {
   "cell_type": "code",
   "execution_count": null,
   "metadata": {
    "collapsed": false
   },
   "outputs": [],
   "source": [
    "type(i.widget)"
   ]
  },
  {
   "cell_type": "code",
   "execution_count": null,
   "metadata": {
    "collapsed": false
   },
   "outputs": [],
   "source": [
    "# I can mess with the value of the input -- and the IntSlider moves, the output doesn't change above\n",
    "i.widget.children[0].value =2"
   ]
  },
  {
   "cell_type": "markdown",
   "metadata": {
    "collapsed": false
   },
   "source": [
    "I thought with `interact`, I could change `x` and the widget would change....nope."
   ]
  },
  {
   "cell_type": "markdown",
   "metadata": {
    "collapsed": true
   },
   "source": [
    "## interactive"
   ]
  },
  {
   "cell_type": "code",
   "execution_count": null,
   "metadata": {
    "collapsed": true
   },
   "outputs": [],
   "source": [
    "def f(a,b):\n",
    "    return a+b"
   ]
  },
  {
   "cell_type": "code",
   "execution_count": null,
   "metadata": {
    "collapsed": true
   },
   "outputs": [],
   "source": [
    "w = interactive(f, a=10, b=20)"
   ]
  },
  {
   "cell_type": "code",
   "execution_count": null,
   "metadata": {
    "collapsed": false
   },
   "outputs": [],
   "source": [
    "display(w)"
   ]
  },
  {
   "cell_type": "code",
   "execution_count": null,
   "metadata": {
    "collapsed": true
   },
   "outputs": [],
   "source": [
    "# how can I control the parameters in Python?"
   ]
  },
  {
   "cell_type": "code",
   "execution_count": null,
   "metadata": {
    "collapsed": false
   },
   "outputs": [],
   "source": [
    "c0 = w.children[0]\n",
    "(c0.description, c0.value)"
   ]
  },
  {
   "cell_type": "code",
   "execution_count": null,
   "metadata": {
    "collapsed": false
   },
   "outputs": [],
   "source": [
    "c0.value = 23"
   ]
  },
  {
   "cell_type": "code",
   "execution_count": null,
   "metadata": {
    "collapsed": false
   },
   "outputs": [],
   "source": [
    "w.kwargs"
   ]
  },
  {
   "cell_type": "code",
   "execution_count": null,
   "metadata": {
    "collapsed": false
   },
   "outputs": [],
   "source": [
    "w.result"
   ]
  },
  {
   "cell_type": "markdown",
   "metadata": {},
   "source": [
    "# using widgets without JS\n",
    "\n",
    "[Question about how to use existing widgets without necessarily creating custom widgets · Issue #263 · ipython/ipywidgets](https://github.com/ipython/ipywidgets/issues/263)"
   ]
  },
  {
   "cell_type": "code",
   "execution_count": null,
   "metadata": {
    "collapsed": false
   },
   "outputs": [],
   "source": [
    "%matplotlib notebook\n",
    "from ipywidgets import HBox, VBox, Button\n",
    "from IPython.display import display\n",
    "from matplotlib import pyplot as plt\n",
    "\n",
    "red = Button(description='Make Red')\n",
    "green = Button(description='Make Green')\n",
    "\n",
    "fig, ax = plt.subplots()\n",
    "ax.plot([1,2,3])\n",
    "\n",
    "def make_red(button):\n",
    "    ax.lines[0].set_color('red')\n",
    "    ax.figure.canvas.draw()\n",
    "\n",
    "def make_green(button):\n",
    "    ax.lines[0].set_color('green')\n",
    "    ax.figure.canvas.draw()\n",
    "\n",
    "red.on_click(make_red)\n",
    "green.on_click(make_green)\n",
    "display(HBox([red, green]))"
   ]
  },
  {
   "cell_type": "code",
   "execution_count": null,
   "metadata": {
    "collapsed": false
   },
   "outputs": [],
   "source": [
    "int_range = widgets.IntSlider()\n",
    "display(int_range)\n",
    "\n",
    "def on_value_change(name, value):\n",
    "    print(value)\n",
    "\n",
    "int_range.on_trait_change(on_value_change, 'value')"
   ]
  },
  {
   "cell_type": "code",
   "execution_count": null,
   "metadata": {
    "collapsed": false
   },
   "outputs": [],
   "source": [
    "from __future__ import print_function\n",
    "\n",
    "t_widget = widgets.Text()\n",
    "display(t_widget)\n",
    "\n",
    "num_events = 0\n",
    "\n",
    "def on_text_change(name, value):\n",
    "    \n",
    "    global num_events \n",
    "    print ('\\r{}: {}'.format(num_events, value), end=\"\")\n",
    "    num_events +=1\n",
    "    \n",
    "t_widget.on_trait_change(on_text_change, 'value')"
   ]
  },
  {
   "cell_type": "code",
   "execution_count": null,
   "metadata": {
    "collapsed": false
   },
   "outputs": [],
   "source": [
    "# list of traits -- lot more traits than I expected.\n",
    "t_widget.trait_names()"
   ]
  },
  {
   "cell_type": "code",
   "execution_count": null,
   "metadata": {
    "collapsed": false
   },
   "outputs": [],
   "source": [
    "t_widget.background_color = '#FFFF00'\n",
    "t_widget.border_color = 'blue'"
   ]
  },
  {
   "cell_type": "code",
   "execution_count": null,
   "metadata": {
    "collapsed": false
   },
   "outputs": [],
   "source": [
    "t_widget.value = \"dddd\""
   ]
  },
  {
   "cell_type": "code",
   "execution_count": null,
   "metadata": {
    "collapsed": false
   },
   "outputs": [],
   "source": [
    "from collections import OrderedDict\n",
    "import datetime\n",
    "\n",
    "def inv_dict(d):\n",
    "    return dict([(v,k) for (k,v) in d.items()])\n",
    "\n",
    "w = widgets.Dropdown(\n",
    "    options=OrderedDict([('Apple', 1), ('Orange', 2), ('Plum', 3), ('Watermelon',4)]),\n",
    "    value=2,\n",
    "    description='Number:',\n",
    ")\n",
    "\n",
    "def w_changed(name, value):\n",
    "    d = inv_dict(w.options)\n",
    "    \n",
    "    t_widget.value = unicode(unicode(value) + \":\" + d.get(value,''))\n",
    "\n",
    "w.on_trait_change(w_changed, 'value')\n",
    "\n",
    "t_widget = widgets.Text()\n",
    "\n",
    "display(w, t_widget)\n",
    "\n"
   ]
  },
  {
   "cell_type": "code",
   "execution_count": null,
   "metadata": {
    "collapsed": false
   },
   "outputs": [],
   "source": [
    "OrderedDict([(v,k) for (k,v) in w.options.items()])"
   ]
  },
  {
   "cell_type": "code",
   "execution_count": null,
   "metadata": {
    "collapsed": false
   },
   "outputs": [],
   "source": [
    "w.value = 4"
   ]
  },
  {
   "cell_type": "code",
   "execution_count": null,
   "metadata": {
    "collapsed": false
   },
   "outputs": [],
   "source": [
    "w.options = OrderedDict(w.options.items() + [('Peaches', 5)])"
   ]
  },
  {
   "cell_type": "code",
   "execution_count": null,
   "metadata": {
    "collapsed": false
   },
   "outputs": [],
   "source": [
    "from IPython.display import HTML\n",
    "HTML(\"<div>hello</div>\")"
   ]
  },
  {
   "cell_type": "code",
   "execution_count": null,
   "metadata": {
    "collapsed": false
   },
   "outputs": [],
   "source": [
    "qgrid.show_grid(spy)"
   ]
  },
  {
   "cell_type": "markdown",
   "metadata": {},
   "source": [
    "# how to use/extend qqgrid widget?\n",
    "\n",
    "How to use `QGridWidget`, identified in [Add an IPython widget by blink1073 · Pull Request #27 · quantopian/qgrid](https://github.com/quantopian/qgrid/pull/27/files#diff-2559840b81815e696a22fbaee6294b66R172)?\n",
    "\n",
    "My impression is that we still use the main `qgrid.show_grid` but that we can make use of events in the underlying `QGridWidget`.  Let's see. "
   ]
  },
  {
   "cell_type": "markdown",
   "metadata": {},
   "source": [
    "# little detour into learning about making custom widgets"
   ]
  },
  {
   "cell_type": "code",
   "execution_count": null,
   "metadata": {
    "collapsed": true
   },
   "outputs": [],
   "source": [
    "from ipywidgets import widgets\n",
    "import traitlets"
   ]
  },
  {
   "cell_type": "code",
   "execution_count": null,
   "metadata": {
    "collapsed": false
   },
   "outputs": [],
   "source": [
    "class HelloView(widgets.DOMWidget):\n",
    "    _view_name = traitlets.Unicode(\"HelloView\", sync=True)\n",
    "    value = traitlets.Unicode(\"Hello World\", sync=True)\n"
   ]
  },
  {
   "cell_type": "code",
   "execution_count": null,
   "metadata": {
    "collapsed": false
   },
   "outputs": [],
   "source": [
    "%%javascript\n",
    "requirejs(['nbextensions/widgets/widgets/js/widget',\n",
    "         'nbextensions/widgets/widgets/js/manager',], function(widget, manager){\n",
    "    \n",
    "    var HelloView = widget.DOMWidgetView.extend({\n",
    "        \n",
    "        render: function(){\n",
    "            this.value_changed();\n",
    "            this.model.on('change:value', this.value_changed, this);\n",
    "        },\n",
    "        \n",
    "        value_changed: function () {\n",
    "            this.$el.text(\n",
    "              this.model.get('value')\n",
    "            )\n",
    "            \n",
    "        }\n",
    "        \n",
    "    });\n",
    "    \n",
    "    manager.WidgetManager.register_widget_view('HelloView', HelloView);\n",
    "    \n",
    "})"
   ]
  },
  {
   "cell_type": "code",
   "execution_count": null,
   "metadata": {
    "collapsed": true
   },
   "outputs": [],
   "source": [
    "h = HelloView()\n",
    "h"
   ]
  },
  {
   "cell_type": "code",
   "execution_count": null,
   "metadata": {
    "collapsed": true
   },
   "outputs": [],
   "source": [
    "h.value = \"dog\""
   ]
  },
  {
   "cell_type": "code",
   "execution_count": null,
   "metadata": {
    "collapsed": false
   },
   "outputs": [],
   "source": [
    "# jquery-ui spinner\n",
    "\n",
    "from nbfiddle import Fiddle"
   ]
  },
  {
   "cell_type": "code",
   "execution_count": null,
   "metadata": {
    "collapsed": false
   },
   "outputs": [],
   "source": [
    "# datepicker\n",
    "\n",
    "Fiddle(\n",
    "  html = \"\"\"\n",
    "    <input type=\"text\" name=\"date\" class=\"date1\"/>\n",
    "  \"\"\",\n",
    "    \n",
    "  js = \"\"\"\n",
    "    $('#{{div_id}} input.date1').datepicker();\n",
    "  \"\"\",\n",
    "  jslibs = ((\"jquery-ui\", \"https://code.jquery.com/ui/1.11.4/jquery-ui.min\", \"jqu\"),),\n",
    "  csslibs = ('https://cdnjs.cloudflare.com/ajax/libs/jqueryui/1.11.4/jquery-ui.css',)\n",
    ")"
   ]
  },
  {
   "cell_type": "code",
   "execution_count": null,
   "metadata": {
    "collapsed": false
   },
   "outputs": [],
   "source": [
    "# datepicker w/o adding jquery-ui -- built in?\n",
    "\n",
    "Fiddle(\n",
    "  html = \"\"\"\n",
    "    <input type=\"text\" name=\"date\" class=\"date1\"/>\n",
    "  \"\"\",\n",
    "    \n",
    "  js = \"\"\"\n",
    "    $('#{{div_id}} input.date1').datepicker();\n",
    "  \"\"\",\n",
    "  csslibs = ('https://cdnjs.cloudflare.com/ajax/libs/jqueryui/1.11.4/jquery-ui.css',)\n",
    ")"
   ]
  },
  {
   "cell_type": "code",
   "execution_count": null,
   "metadata": {
    "collapsed": false
   },
   "outputs": [],
   "source": [
    "# spinner\n",
    "# https://jqueryui.com/spinner/\n",
    "\n",
    "\n",
    "Fiddle(\n",
    "  html = \"\"\"\n",
    "<p>\n",
    "  <label for=\"spinner\">Select a value:</label>\n",
    "  <input class=\"spinner\" name=\"value\">\n",
    "</p>\n",
    "<p>\n",
    "  <label>Value:</label>\n",
    "  <span class=\"reflected_val\"></span>\n",
    "</p>\n",
    "  \"\"\",\n",
    "    \n",
    "  js = \"\"\"\n",
    "    var spinner = $( \"#{{div_id}} .spinner\" ).spinner();\n",
    "    spinner.spinner( \"value\", 2 );\n",
    "\n",
    "    var reflected_val = $(\"#{{div_id}} .reflected_val\");\n",
    "   \n",
    "    spinner.on( \"spinchange\", function( event, ui ) {\n",
    "        console.log(ui);\n",
    "        reflected_val.text(spinner.val());\n",
    "    } );\n",
    "    \n",
    "    spinner.on(\"spin\", function(event, ui){\n",
    "        reflected_val.text(ui.value);\n",
    "    \n",
    "    })\n",
    "  \"\"\",\n",
    "  jslibs = ((\"jquery-ui\", \"https://code.jquery.com/ui/1.11.4/jquery-ui.min\", \"jqu\"),),\n",
    "  csslibs = ('https://cdnjs.cloudflare.com/ajax/libs/jqueryui/1.11.4/jquery-ui.css',)\n",
    ")"
   ]
  },
  {
   "cell_type": "markdown",
   "metadata": {
    "collapsed": true
   },
   "source": [
    "# location of files installed by ipywidgets, etc.\n",
    "\n",
    "\n",
    "I'm trying to understand how various **things** are packaged:\n",
    "\n",
    "* nbextensions\n",
    "* IPython widgets\n",
    "\n",
    "Recall \n",
    "\n",
    "* Python env:\n",
    "* IPython env\n",
    "\n",
    "What's the meaning of `nbextensions/widgets/widgets/js/widget`?"
   ]
  },
  {
   "cell_type": "code",
   "execution_count": 1,
   "metadata": {
    "collapsed": false
   },
   "outputs": [
    {
     "name": "stdout",
     "output_type": "stream",
     "text": [
      "/Users/raymondyee/.ipython:\n",
      "total 24\n",
      "drwxr-xr-x    7 raymondyee  staff   238 May 10  2015 .\n",
      "drwxr-xr-x+ 137 raymondyee  staff  4658 Jan 28 21:50 ..\n",
      "-rw-r--r--@   1 raymondyee  staff  6148 May 10  2015 .DS_Store\n",
      "-rw-r--r--    1 raymondyee  staff   195 Aug 13  2014 README\n",
      "drwxr-xr-x    2 raymondyee  staff    68 Aug 13  2014 extensions\n",
      "drwxr-xr-x    2 raymondyee  staff    68 Aug 13  2014 nbextensions\n",
      "drwxr-xr-x    9 raymondyee  staff   306 Jan 29 08:45 profile_default\n",
      "\n",
      "/Users/raymondyee/.jupyter:\n",
      "total 40\n",
      "drwxr-xr-x    8 raymondyee  staff   272 Dec  6 15:03 .\n",
      "drwxr-xr-x+ 137 raymondyee  staff  4658 Jan 28 21:50 ..\n",
      "-rw-r--r--    1 raymondyee  staff   333 Dec  6 14:55 jupyter_nbconvert_config.json\n",
      "-rw-r--r--    1 raymondyee  staff   327 Dec  6 14:55 jupyter_nbconvert_config.py\n",
      "-rw-r--r--    1 raymondyee  staff   411 Dec  6 14:55 jupyter_notebook_config.json\n",
      "-rw-r--r--    1 raymondyee  staff   331 Dec  6 14:55 jupyter_notebook_config.py\n",
      "-rw-r--r--    1 raymondyee  staff    26 Aug 14 11:20 migrated\n",
      "drwxr-xr-x    3 raymondyee  staff   102 Dec  6 15:03 nbconfig\n"
     ]
    }
   ],
   "source": [
    "%%bash\n",
    "\n",
    "ls -al ~/.ipython ~/.jupyter"
   ]
  },
  {
   "cell_type": "code",
   "execution_count": 2,
   "metadata": {
    "collapsed": false
   },
   "outputs": [
    {
     "data": {
      "text/plain": [
       "('/Users/raymondyee/.jupyter', '/Users/raymondyee/Library/Jupyter')"
      ]
     },
     "execution_count": 2,
     "metadata": {},
     "output_type": "execute_result"
    }
   ],
   "source": [
    "from jupyter_core.paths import jupyter_config_dir, jupyter_data_dir\n",
    "jupyter_config_dir(), jupyter_data_dir()"
   ]
  },
  {
   "cell_type": "code",
   "execution_count": 3,
   "metadata": {
    "collapsed": false
   },
   "outputs": [
    {
     "name": "stdout",
     "output_type": "stream",
     "text": [
      "codemirrormode\n",
      "config\n",
      "publishing\n",
      "qgridjs\n",
      "slidemode\n",
      "styling\n",
      "testing\n",
      "usability\n"
     ]
    }
   ],
   "source": [
    "%%bash\n",
    "\n",
    "ls /Users/raymondyee/Library/Jupyter/nbextensions/"
   ]
  },
  {
   "cell_type": "code",
   "execution_count": null,
   "metadata": {
    "collapsed": true
   },
   "outputs": [],
   "source": [
    "import notebook.nbextensions"
   ]
  },
  {
   "cell_type": "code",
   "execution_count": null,
   "metadata": {
    "collapsed": false
   },
   "outputs": [],
   "source": [
    "dir(notebook.nbextensions)"
   ]
  },
  {
   "cell_type": "markdown",
   "metadata": {},
   "source": [
    "# Cleaning up widgets"
   ]
  },
  {
   "cell_type": "code",
   "execution_count": null,
   "metadata": {
    "collapsed": false
   },
   "outputs": [],
   "source": [
    "assert False"
   ]
  },
  {
   "cell_type": "code",
   "execution_count": null,
   "metadata": {
    "collapsed": false
   },
   "outputs": [],
   "source": [
    "%%javascript\n",
    "\n",
    "// close widgets by clickling on clse buttons.\n",
    "$('div.widget-area button.close:visible').click();"
   ]
  },
  {
   "cell_type": "code",
   "execution_count": null,
   "metadata": {
    "collapsed": true
   },
   "outputs": [],
   "source": []
  }
 ],
 "metadata": {
  "kernelspec": {
   "display_name": "Python 2",
   "language": "python",
   "name": "python2"
  },
  "language_info": {
   "codemirror_mode": {
    "name": "ipython",
    "version": 2
   },
   "file_extension": ".py",
   "mimetype": "text/x-python",
   "name": "python",
   "nbconvert_exporter": "python",
   "pygments_lexer": "ipython2",
   "version": "2.7.11"
  }
 },
 "nbformat": 4,
 "nbformat_minor": 0
}
