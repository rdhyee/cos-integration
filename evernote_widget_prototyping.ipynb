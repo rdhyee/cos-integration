{
 "cells": [
  {
   "cell_type": "markdown",
   "metadata": {},
   "source": [
    "# ipywidgets learning"
   ]
  },
  {
   "cell_type": "markdown",
   "metadata": {},
   "source": [
    "Goal:  build an interface for programming Evernote using IPython widgets.\n",
    "\n",
    "Let me list the relevant tutorial materials:\n",
    "\n",
    "* [ipywidgets/Index.ipynb at master · ipython/ipywidgets](https://github.com/ipython/ipywidgets/blob/master/examples/notebooks/Index.ipynb)"
   ]
  },
  {
   "cell_type": "code",
   "execution_count": 1,
   "metadata": {
    "collapsed": true
   },
   "outputs": [],
   "source": [
    "from __future__ import print_function\n",
    "\n",
    "from ipywidgets import (interact, interactive, fixed)\n",
    "import ipywidgets as widgets\n",
    "\n",
    "from IPython.display import (HTML, display, Javascript)\n",
    "\n",
    "# for function annotation in Python 3\n",
    "from IPython.utils.py3compat import annotate"
   ]
  },
  {
   "cell_type": "markdown",
   "metadata": {},
   "source": [
    "What is the best way to get a list of widgets?  According to [ipywidgets/Widget List.ipynb at master · ipython/ipywidgets](https://github.com/ipython/ipywidgets/blob/master/examples/notebooks/Widget%20List.ipynb):\n",
    "\n",
    "```Python\n",
    "import ipywidgets as widgets\n",
    "widgets.Widget.widget_types.values()\n",
    "```\n",
    "\n"
   ]
  },
  {
   "cell_type": "code",
   "execution_count": 2,
   "metadata": {
    "collapsed": false
   },
   "outputs": [
    {
     "data": {
      "text/plain": [
       "[ipywidgets.widgets.widget_int.IntRangeSlider,\n",
       " ipywidgets.widgets.widget_selection.RadioButtons,\n",
       " ipywidgets.widgets.widget_controller.Axis,\n",
       " ipywidgets.widgets.widget_float.FloatSlider,\n",
       " ipywidgets.widgets.widget_int.IntSlider,\n",
       " ipywidgets.widgets.widget_image.Image,\n",
       " ipywidgets.widgets.widget_selection.SelectMultiple,\n",
       " ipywidgets.widgets.widget_string.HTML,\n",
       " ipywidgets.widgets.widget_box.Box,\n",
       " ipywidgets.widgets.widget_float.BoundedFloatText,\n",
       " ipywidgets.widgets.widget_selectioncontainer.Accordion,\n",
       " ipywidgets.widgets.widget_button.Button,\n",
       " ipywidgets.widgets.widget_bool.Valid,\n",
       " ipywidgets.widgets.widget_selection.Dropdown,\n",
       " ipywidgets.widgets.widget_selection.SelectionSlider,\n",
       " ipywidgets.widgets.widget_box.Proxy,\n",
       " ipywidgets.widgets.widget_string.Text,\n",
       " ipywidgets.widgets.widget_selection.ToggleButtons,\n",
       " ipywidgets.widgets.widget_color.ColorPicker,\n",
       " ipywidgets.widgets.widget_float.FloatRangeSlider,\n",
       " ipywidgets.widgets.widget_bool.Checkbox,\n",
       " ipywidgets.widgets.widget_controller.Controller,\n",
       " ipywidgets.widgets.widget_box.PlaceProxy,\n",
       " ipywidgets.widgets.widget_float.FloatText,\n",
       " ipywidgets.widgets.widget_box.FlexBox,\n",
       " ipywidgets.widgets.widget_bool.ToggleButton,\n",
       " ipywidgets.widgets.widget_string.Latex,\n",
       " ipywidgets.widgets.widget_selection.Select,\n",
       " ipywidgets.widgets.widget_int.IntProgress,\n",
       " ipywidgets.widgets.widget_string.Textarea,\n",
       " ipywidgets.widgets.widget_selectioncontainer.Tab,\n",
       " ipywidgets.widgets.widget_int.IntText,\n",
       " ipywidgets.widgets.widget_float.FloatProgress,\n",
       " ipywidgets.widgets.widget_int.BoundedIntText,\n",
       " ipywidgets.widgets.widget_controller.Button]"
      ]
     },
     "execution_count": 2,
     "metadata": {},
     "output_type": "execute_result"
    }
   ],
   "source": [
    "widgets.Widget.widget_types.values()"
   ]
  },
  {
   "cell_type": "code",
   "execution_count": 3,
   "metadata": {
    "collapsed": false
   },
   "outputs": [
    {
     "data": {
      "text/plain": [
       "'IntRangeSlider'"
      ]
     },
     "execution_count": 3,
     "metadata": {},
     "output_type": "execute_result"
    }
   ],
   "source": [
    "widgets.Widget.widget_types.values()[0].__name__"
   ]
  },
  {
   "cell_type": "code",
   "execution_count": 4,
   "metadata": {
    "collapsed": false
   },
   "outputs": [
    {
     "data": {
      "text/plain": [
       "['IntRangeSlider',\n",
       " 'RadioButtons',\n",
       " 'Axis',\n",
       " 'FloatSlider',\n",
       " 'IntSlider',\n",
       " 'Image',\n",
       " 'SelectMultiple',\n",
       " 'HTML',\n",
       " 'Box',\n",
       " 'BoundedFloatText',\n",
       " 'Accordion',\n",
       " 'Button',\n",
       " 'Valid',\n",
       " 'Dropdown',\n",
       " 'SelectionSlider',\n",
       " 'Proxy',\n",
       " 'Text',\n",
       " 'ToggleButtons',\n",
       " 'ColorPicker',\n",
       " 'FloatRangeSlider',\n",
       " 'Checkbox',\n",
       " 'Controller',\n",
       " 'PlaceProxy',\n",
       " 'FloatText',\n",
       " 'FlexBox',\n",
       " 'ToggleButton',\n",
       " 'Latex',\n",
       " 'Select',\n",
       " 'IntProgress',\n",
       " 'Textarea',\n",
       " 'Tab',\n",
       " 'IntText',\n",
       " 'FloatProgress',\n",
       " 'BoundedIntText',\n",
       " 'Button']"
      ]
     },
     "execution_count": 4,
     "metadata": {},
     "output_type": "execute_result"
    }
   ],
   "source": [
    "import ipywidgets as widgets\n",
    "[w.__name__ for w in widgets.Widget.widget_types.values()]"
   ]
  },
  {
   "cell_type": "code",
   "execution_count": 5,
   "metadata": {
    "collapsed": false
   },
   "outputs": [
    {
     "name": "stdout",
     "output_type": "stream",
     "text": [
      "(<class 'ipywidgets.widgets.widget_int.IntRangeSlider'>, set([]))\n",
      "(<class 'ipywidgets.widgets.widget_selection.RadioButtons'>, set([]))\n",
      "(<class 'ipywidgets.widgets.widget_controller.Axis'>, set([]))\n",
      "(<class 'ipywidgets.widgets.widget_float.FloatSlider'>, set([]))\n",
      "(<class 'ipywidgets.widgets.widget_int.IntSlider'>, set([]))\n",
      "(<class 'ipywidgets.widgets.widget_image.Image'>, set([]))\n",
      "(<class 'ipywidgets.widgets.widget_selection.SelectMultiple'>, set([]))\n",
      "(<class 'ipywidgets.widgets.widget_string.HTML'>, set([]))\n",
      "(<class 'ipywidgets.widgets.widget_box.Box'>, set([]))\n",
      "(<class 'ipywidgets.widgets.widget_float.BoundedFloatText'>, set([]))\n",
      "(<class 'ipywidgets.widgets.widget_selectioncontainer.Accordion'>, set([]))\n",
      "(<class 'ipywidgets.widgets.widget_button.Button'>, set(['on_click']))\n",
      "(<class 'ipywidgets.widgets.widget_bool.Valid'>, set([]))\n",
      "(<class 'ipywidgets.widgets.widget_selection.Dropdown'>, set([]))\n",
      "(<class 'ipywidgets.widgets.widget_selection.SelectionSlider'>, set([]))\n",
      "(<class 'ipywidgets.widgets.widget_box.Proxy'>, set([]))\n",
      "(<class 'ipywidgets.widgets.widget_string.Text'>, set(['on_submit']))\n",
      "(<class 'ipywidgets.widgets.widget_selection.ToggleButtons'>, set([]))\n",
      "(<class 'ipywidgets.widgets.widget_color.ColorPicker'>, set([]))\n",
      "(<class 'ipywidgets.widgets.widget_float.FloatRangeSlider'>, set([]))\n",
      "(<class 'ipywidgets.widgets.widget_bool.Checkbox'>, set([]))\n",
      "(<class 'ipywidgets.widgets.widget_controller.Controller'>, set([]))\n",
      "(<class 'ipywidgets.widgets.widget_box.PlaceProxy'>, set([]))\n",
      "(<class 'ipywidgets.widgets.widget_float.FloatText'>, set([]))\n",
      "(<class 'ipywidgets.widgets.widget_box.FlexBox'>, set([]))\n",
      "(<class 'ipywidgets.widgets.widget_bool.ToggleButton'>, set([]))\n",
      "(<class 'ipywidgets.widgets.widget_string.Latex'>, set([]))\n",
      "(<class 'ipywidgets.widgets.widget_selection.Select'>, set([]))\n",
      "(<class 'ipywidgets.widgets.widget_int.IntProgress'>, set([]))\n",
      "(<class 'ipywidgets.widgets.widget_string.Textarea'>, set([]))\n",
      "(<class 'ipywidgets.widgets.widget_selectioncontainer.Tab'>, set([]))\n",
      "(<class 'ipywidgets.widgets.widget_int.IntText'>, set([]))\n",
      "(<class 'ipywidgets.widgets.widget_float.FloatProgress'>, set([]))\n",
      "(<class 'ipywidgets.widgets.widget_int.BoundedIntText'>, set([]))\n",
      "(<class 'ipywidgets.widgets.widget_controller.Button'>, set([]))\n"
     ]
    }
   ],
   "source": [
    "standard_handlers = set(['on_displayed', 'on_msg', 'on_trait_change', 'on_widget_constructed'])\n",
    "\n",
    "# It seems one will use on_trait_change a lot. I'll need to learn more the other three standard ones\n",
    "# extra handlers: on_msg, on_displayed, on_widget_constructed\n",
    "\n",
    "\n",
    "# Text -> on_submit\n",
    "# Button -> on_click\n",
    "\n",
    "for w in widgets.Widget.widget_types.values():\n",
    "    print ((w,set([m for m in dir(w) if m.startswith(\"on_\")]) - standard_handlers))"
   ]
  },
  {
   "cell_type": "code",
   "execution_count": 6,
   "metadata": {
    "collapsed": false
   },
   "outputs": [
    {
     "data": {
      "text/plain": [
       "['Accordion',\n",
       " 'BoundedFloatText',\n",
       " 'BoundedIntText',\n",
       " 'Box',\n",
       " 'Button',\n",
       " 'CallbackDispatcher',\n",
       " 'Checkbox',\n",
       " 'Color',\n",
       " 'ColorPicker',\n",
       " 'Controller',\n",
       " 'DOMWidget',\n",
       " 'Dropdown',\n",
       " 'EventfulDict',\n",
       " 'EventfulList',\n",
       " 'FlexBox',\n",
       " 'FloatProgress',\n",
       " 'FloatRangeSlider',\n",
       " 'FloatSlider',\n",
       " 'FloatText',\n",
       " 'HBox',\n",
       " 'HTML',\n",
       " 'Image',\n",
       " 'IntProgress',\n",
       " 'IntRangeSlider',\n",
       " 'IntSlider',\n",
       " 'IntText',\n",
       " 'Latex',\n",
       " 'Layout',\n",
       " 'Output',\n",
       " 'PlaceProxy',\n",
       " 'Proxy',\n",
       " 'RadioButtons',\n",
       " 'Select',\n",
       " 'SelectMultiple',\n",
       " 'SelectionSlider',\n",
       " 'Tab',\n",
       " 'Text',\n",
       " 'Textarea',\n",
       " 'ToggleButton',\n",
       " 'ToggleButtons',\n",
       " 'VBox',\n",
       " 'Valid',\n",
       " 'Widget',\n",
       " '__builtins__',\n",
       " '__doc__',\n",
       " '__file__',\n",
       " '__name__',\n",
       " '__package__',\n",
       " '__path__',\n",
       " '__version__',\n",
       " '_handle_ipython',\n",
       " '_version',\n",
       " 'domwidget',\n",
       " 'eventful',\n",
       " 'find_static_assets',\n",
       " 'fixed',\n",
       " 'get_ipython',\n",
       " 'handle_kernel',\n",
       " 'handle_version_comm_opened',\n",
       " 'interact',\n",
       " 'interact_manual',\n",
       " 'interaction',\n",
       " 'interactive',\n",
       " 'jsdlink',\n",
       " 'jslink',\n",
       " 'load_ipython_extension',\n",
       " 'os',\n",
       " 'register',\n",
       " 'register_comm_target',\n",
       " 'trait_types',\n",
       " 'version_info',\n",
       " 'widget',\n",
       " 'widget_bool',\n",
       " 'widget_box',\n",
       " 'widget_button',\n",
       " 'widget_color',\n",
       " 'widget_controller',\n",
       " 'widget_float',\n",
       " 'widget_image',\n",
       " 'widget_int',\n",
       " 'widget_layout',\n",
       " 'widget_link',\n",
       " 'widget_output',\n",
       " 'widget_selection',\n",
       " 'widget_selectioncontainer',\n",
       " 'widget_serialization',\n",
       " 'widget_string',\n",
       " 'widgets']"
      ]
     },
     "execution_count": 6,
     "metadata": {},
     "output_type": "execute_result"
    }
   ],
   "source": [
    "dir(widgets)"
   ]
  },
  {
   "cell_type": "markdown",
   "metadata": {},
   "source": [
    "## interact"
   ]
  },
  {
   "cell_type": "code",
   "execution_count": 7,
   "metadata": {
    "collapsed": false
   },
   "outputs": [
    {
     "data": {
      "text/plain": [
       "3628800"
      ]
     },
     "metadata": {},
     "output_type": "display_data"
    }
   ],
   "source": [
    "import math\n",
    "i = interact(lambda x: math.factorial(x),\n",
    "         x=widgets.IntSlider(min=0,max=2000,step=1,value=10));\n"
   ]
  },
  {
   "cell_type": "code",
   "execution_count": 8,
   "metadata": {
    "collapsed": false
   },
   "outputs": [
    {
     "data": {
      "text/plain": [
       "ipywidgets.widgets.widget_box.Box"
      ]
     },
     "execution_count": 8,
     "metadata": {},
     "output_type": "execute_result"
    }
   ],
   "source": [
    "type(i.widget)"
   ]
  },
  {
   "cell_type": "code",
   "execution_count": 9,
   "metadata": {
    "collapsed": false
   },
   "outputs": [
    {
     "data": {
      "text/plain": [
       "2"
      ]
     },
     "metadata": {},
     "output_type": "display_data"
    }
   ],
   "source": [
    "# I can mess with the value of the input -- and the IntSlider moves, the output doesn't change above\n",
    "i.widget.children[0].value =2"
   ]
  },
  {
   "cell_type": "markdown",
   "metadata": {
    "collapsed": false
   },
   "source": [
    "I thought with `interact`, I could change `x` and the widget would change....nope."
   ]
  },
  {
   "cell_type": "markdown",
   "metadata": {
    "collapsed": true
   },
   "source": [
    "## interactive"
   ]
  },
  {
   "cell_type": "code",
   "execution_count": 10,
   "metadata": {
    "collapsed": true
   },
   "outputs": [],
   "source": [
    "def f(a,b):\n",
    "    return a+b"
   ]
  },
  {
   "cell_type": "code",
   "execution_count": 11,
   "metadata": {
    "collapsed": true
   },
   "outputs": [],
   "source": [
    "w = interactive(f, a=10, b=20)"
   ]
  },
  {
   "cell_type": "code",
   "execution_count": 12,
   "metadata": {
    "collapsed": false
   },
   "outputs": [
    {
     "data": {
      "text/plain": [
       "30"
      ]
     },
     "metadata": {},
     "output_type": "display_data"
    }
   ],
   "source": [
    "display(w)"
   ]
  },
  {
   "cell_type": "code",
   "execution_count": 13,
   "metadata": {
    "collapsed": true
   },
   "outputs": [],
   "source": [
    "# how can I control the parameters in Python?"
   ]
  },
  {
   "cell_type": "code",
   "execution_count": 14,
   "metadata": {
    "collapsed": false
   },
   "outputs": [
    {
     "data": {
      "text/plain": [
       "(u'a', 10)"
      ]
     },
     "execution_count": 14,
     "metadata": {},
     "output_type": "execute_result"
    }
   ],
   "source": [
    "c0 = w.children[0]\n",
    "(c0.description, c0.value)"
   ]
  },
  {
   "cell_type": "code",
   "execution_count": 15,
   "metadata": {
    "collapsed": false
   },
   "outputs": [
    {
     "data": {
      "text/plain": [
       "43"
      ]
     },
     "metadata": {},
     "output_type": "display_data"
    }
   ],
   "source": [
    "c0.value = 23"
   ]
  },
  {
   "cell_type": "code",
   "execution_count": 16,
   "metadata": {
    "collapsed": false
   },
   "outputs": [
    {
     "data": {
      "text/plain": [
       "{'a': 23, 'b': 20}"
      ]
     },
     "execution_count": 16,
     "metadata": {},
     "output_type": "execute_result"
    }
   ],
   "source": [
    "w.kwargs"
   ]
  },
  {
   "cell_type": "code",
   "execution_count": 17,
   "metadata": {
    "collapsed": false
   },
   "outputs": [
    {
     "data": {
      "text/plain": [
       "43"
      ]
     },
     "execution_count": 17,
     "metadata": {},
     "output_type": "execute_result"
    }
   ],
   "source": [
    "w.result"
   ]
  },
  {
   "cell_type": "markdown",
   "metadata": {},
   "source": [
    "# using widgets without JS\n",
    "\n",
    "[Question about how to use existing widgets without necessarily creating custom widgets · Issue #263 · ipython/ipywidgets](https://github.com/ipython/ipywidgets/issues/263)"
   ]
  },
  {
   "cell_type": "code",
   "execution_count": 18,
   "metadata": {
    "collapsed": false
   },
   "outputs": [
    {
     "name": "stderr",
     "output_type": "stream",
     "text": [
      "/Users/raymondyee/anaconda/envs/myenv/lib/python2.7/site-packages/IPython/kernel/__init__.py:13: ShimWarning: The `IPython.kernel` package has been deprecated. You should import from ipykernel or jupyter_client instead.\n",
      "  \"You should import from ipykernel or jupyter_client instead.\", ShimWarning)\n"
     ]
    },
    {
     "data": {
      "application/javascript": [
       "/* Put everything inside the global mpl namespace */\n",
       "window.mpl = {};\n",
       "\n",
       "mpl.get_websocket_type = function() {\n",
       "    if (typeof(WebSocket) !== 'undefined') {\n",
       "        return WebSocket;\n",
       "    } else if (typeof(MozWebSocket) !== 'undefined') {\n",
       "        return MozWebSocket;\n",
       "    } else {\n",
       "        alert('Your browser does not have WebSocket support.' +\n",
       "              'Please try Chrome, Safari or Firefox ≥ 6. ' +\n",
       "              'Firefox 4 and 5 are also supported but you ' +\n",
       "              'have to enable WebSockets in about:config.');\n",
       "    };\n",
       "}\n",
       "\n",
       "mpl.figure = function(figure_id, websocket, ondownload, parent_element) {\n",
       "    this.id = figure_id;\n",
       "\n",
       "    this.ws = websocket;\n",
       "\n",
       "    this.supports_binary = (this.ws.binaryType != undefined);\n",
       "\n",
       "    if (!this.supports_binary) {\n",
       "        var warnings = document.getElementById(\"mpl-warnings\");\n",
       "        if (warnings) {\n",
       "            warnings.style.display = 'block';\n",
       "            warnings.textContent = (\n",
       "                \"This browser does not support binary websocket messages. \" +\n",
       "                    \"Performance may be slow.\");\n",
       "        }\n",
       "    }\n",
       "\n",
       "    this.imageObj = new Image();\n",
       "\n",
       "    this.context = undefined;\n",
       "    this.message = undefined;\n",
       "    this.canvas = undefined;\n",
       "    this.rubberband_canvas = undefined;\n",
       "    this.rubberband_context = undefined;\n",
       "    this.format_dropdown = undefined;\n",
       "\n",
       "    this.image_mode = 'full';\n",
       "\n",
       "    this.root = $('<div/>');\n",
       "    this._root_extra_style(this.root)\n",
       "    this.root.attr('style', 'display: inline-block');\n",
       "\n",
       "    $(parent_element).append(this.root);\n",
       "\n",
       "    this._init_header(this);\n",
       "    this._init_canvas(this);\n",
       "    this._init_toolbar(this);\n",
       "\n",
       "    var fig = this;\n",
       "\n",
       "    this.waiting = false;\n",
       "\n",
       "    this.ws.onopen =  function () {\n",
       "            fig.send_message(\"supports_binary\", {value: fig.supports_binary});\n",
       "            fig.send_message(\"send_image_mode\", {});\n",
       "            fig.send_message(\"refresh\", {});\n",
       "        }\n",
       "\n",
       "    this.imageObj.onload = function() {\n",
       "            if (fig.image_mode == 'full') {\n",
       "                // Full images could contain transparency (where diff images\n",
       "                // almost always do), so we need to clear the canvas so that\n",
       "                // there is no ghosting.\n",
       "                fig.context.clearRect(0, 0, fig.canvas.width, fig.canvas.height);\n",
       "            }\n",
       "            fig.context.drawImage(fig.imageObj, 0, 0);\n",
       "            fig.waiting = false;\n",
       "        };\n",
       "\n",
       "    this.imageObj.onunload = function() {\n",
       "        this.ws.close();\n",
       "    }\n",
       "\n",
       "    this.ws.onmessage = this._make_on_message_function(this);\n",
       "\n",
       "    this.ondownload = ondownload;\n",
       "}\n",
       "\n",
       "mpl.figure.prototype._init_header = function() {\n",
       "    var titlebar = $(\n",
       "        '<div class=\"ui-dialog-titlebar ui-widget-header ui-corner-all ' +\n",
       "        'ui-helper-clearfix\"/>');\n",
       "    var titletext = $(\n",
       "        '<div class=\"ui-dialog-title\" style=\"width: 100%; ' +\n",
       "        'text-align: center; padding: 3px;\"/>');\n",
       "    titlebar.append(titletext)\n",
       "    this.root.append(titlebar);\n",
       "    this.header = titletext[0];\n",
       "}\n",
       "\n",
       "\n",
       "\n",
       "mpl.figure.prototype._canvas_extra_style = function(canvas_div) {\n",
       "\n",
       "}\n",
       "\n",
       "\n",
       "mpl.figure.prototype._root_extra_style = function(canvas_div) {\n",
       "\n",
       "}\n",
       "\n",
       "mpl.figure.prototype._init_canvas = function() {\n",
       "    var fig = this;\n",
       "\n",
       "    var canvas_div = $('<div/>');\n",
       "\n",
       "    canvas_div.attr('style', 'position: relative; clear: both; outline: 0');\n",
       "\n",
       "    function canvas_keyboard_event(event) {\n",
       "        return fig.key_event(event, event['data']);\n",
       "    }\n",
       "\n",
       "    canvas_div.keydown('key_press', canvas_keyboard_event);\n",
       "    canvas_div.keyup('key_release', canvas_keyboard_event);\n",
       "    this.canvas_div = canvas_div\n",
       "    this._canvas_extra_style(canvas_div)\n",
       "    this.root.append(canvas_div);\n",
       "\n",
       "    var canvas = $('<canvas/>');\n",
       "    canvas.addClass('mpl-canvas');\n",
       "    canvas.attr('style', \"left: 0; top: 0; z-index: 0; outline: 0\")\n",
       "\n",
       "    this.canvas = canvas[0];\n",
       "    this.context = canvas[0].getContext(\"2d\");\n",
       "\n",
       "    var rubberband = $('<canvas/>');\n",
       "    rubberband.attr('style', \"position: absolute; left: 0; top: 0; z-index: 1;\")\n",
       "\n",
       "    var pass_mouse_events = true;\n",
       "\n",
       "    canvas_div.resizable({\n",
       "        start: function(event, ui) {\n",
       "            pass_mouse_events = false;\n",
       "        },\n",
       "        resize: function(event, ui) {\n",
       "            fig.request_resize(ui.size.width, ui.size.height);\n",
       "        },\n",
       "        stop: function(event, ui) {\n",
       "            pass_mouse_events = true;\n",
       "            fig.request_resize(ui.size.width, ui.size.height);\n",
       "        },\n",
       "    });\n",
       "\n",
       "    function mouse_event_fn(event) {\n",
       "        if (pass_mouse_events)\n",
       "            return fig.mouse_event(event, event['data']);\n",
       "    }\n",
       "\n",
       "    rubberband.mousedown('button_press', mouse_event_fn);\n",
       "    rubberband.mouseup('button_release', mouse_event_fn);\n",
       "    // Throttle sequential mouse events to 1 every 20ms.\n",
       "    rubberband.mousemove('motion_notify', mouse_event_fn);\n",
       "\n",
       "    rubberband.mouseenter('figure_enter', mouse_event_fn);\n",
       "    rubberband.mouseleave('figure_leave', mouse_event_fn);\n",
       "\n",
       "    canvas_div.on(\"wheel\", function (event) {\n",
       "        event = event.originalEvent;\n",
       "        event['data'] = 'scroll'\n",
       "        if (event.deltaY < 0) {\n",
       "            event.step = 1;\n",
       "        } else {\n",
       "            event.step = -1;\n",
       "        }\n",
       "        mouse_event_fn(event);\n",
       "    });\n",
       "\n",
       "    canvas_div.append(canvas);\n",
       "    canvas_div.append(rubberband);\n",
       "\n",
       "    this.rubberband = rubberband;\n",
       "    this.rubberband_canvas = rubberband[0];\n",
       "    this.rubberband_context = rubberband[0].getContext(\"2d\");\n",
       "    this.rubberband_context.strokeStyle = \"#000000\";\n",
       "\n",
       "    this._resize_canvas = function(width, height) {\n",
       "        // Keep the size of the canvas, canvas container, and rubber band\n",
       "        // canvas in synch.\n",
       "        canvas_div.css('width', width)\n",
       "        canvas_div.css('height', height)\n",
       "\n",
       "        canvas.attr('width', width);\n",
       "        canvas.attr('height', height);\n",
       "\n",
       "        rubberband.attr('width', width);\n",
       "        rubberband.attr('height', height);\n",
       "    }\n",
       "\n",
       "    // Set the figure to an initial 600x600px, this will subsequently be updated\n",
       "    // upon first draw.\n",
       "    this._resize_canvas(600, 600);\n",
       "\n",
       "    // Disable right mouse context menu.\n",
       "    $(this.rubberband_canvas).bind(\"contextmenu\",function(e){\n",
       "        return false;\n",
       "    });\n",
       "\n",
       "    function set_focus () {\n",
       "        canvas.focus();\n",
       "        canvas_div.focus();\n",
       "    }\n",
       "\n",
       "    window.setTimeout(set_focus, 100);\n",
       "}\n",
       "\n",
       "mpl.figure.prototype._init_toolbar = function() {\n",
       "    var fig = this;\n",
       "\n",
       "    var nav_element = $('<div/>')\n",
       "    nav_element.attr('style', 'width: 100%');\n",
       "    this.root.append(nav_element);\n",
       "\n",
       "    // Define a callback function for later on.\n",
       "    function toolbar_event(event) {\n",
       "        return fig.toolbar_button_onclick(event['data']);\n",
       "    }\n",
       "    function toolbar_mouse_event(event) {\n",
       "        return fig.toolbar_button_onmouseover(event['data']);\n",
       "    }\n",
       "\n",
       "    for(var toolbar_ind in mpl.toolbar_items) {\n",
       "        var name = mpl.toolbar_items[toolbar_ind][0];\n",
       "        var tooltip = mpl.toolbar_items[toolbar_ind][1];\n",
       "        var image = mpl.toolbar_items[toolbar_ind][2];\n",
       "        var method_name = mpl.toolbar_items[toolbar_ind][3];\n",
       "\n",
       "        if (!name) {\n",
       "            // put a spacer in here.\n",
       "            continue;\n",
       "        }\n",
       "        var button = $('<button/>');\n",
       "        button.addClass('ui-button ui-widget ui-state-default ui-corner-all ' +\n",
       "                        'ui-button-icon-only');\n",
       "        button.attr('role', 'button');\n",
       "        button.attr('aria-disabled', 'false');\n",
       "        button.click(method_name, toolbar_event);\n",
       "        button.mouseover(tooltip, toolbar_mouse_event);\n",
       "\n",
       "        var icon_img = $('<span/>');\n",
       "        icon_img.addClass('ui-button-icon-primary ui-icon');\n",
       "        icon_img.addClass(image);\n",
       "        icon_img.addClass('ui-corner-all');\n",
       "\n",
       "        var tooltip_span = $('<span/>');\n",
       "        tooltip_span.addClass('ui-button-text');\n",
       "        tooltip_span.html(tooltip);\n",
       "\n",
       "        button.append(icon_img);\n",
       "        button.append(tooltip_span);\n",
       "\n",
       "        nav_element.append(button);\n",
       "    }\n",
       "\n",
       "    var fmt_picker_span = $('<span/>');\n",
       "\n",
       "    var fmt_picker = $('<select/>');\n",
       "    fmt_picker.addClass('mpl-toolbar-option ui-widget ui-widget-content');\n",
       "    fmt_picker_span.append(fmt_picker);\n",
       "    nav_element.append(fmt_picker_span);\n",
       "    this.format_dropdown = fmt_picker[0];\n",
       "\n",
       "    for (var ind in mpl.extensions) {\n",
       "        var fmt = mpl.extensions[ind];\n",
       "        var option = $(\n",
       "            '<option/>', {selected: fmt === mpl.default_extension}).html(fmt);\n",
       "        fmt_picker.append(option)\n",
       "    }\n",
       "\n",
       "    // Add hover states to the ui-buttons\n",
       "    $( \".ui-button\" ).hover(\n",
       "        function() { $(this).addClass(\"ui-state-hover\");},\n",
       "        function() { $(this).removeClass(\"ui-state-hover\");}\n",
       "    );\n",
       "\n",
       "    var status_bar = $('<span class=\"mpl-message\"/>');\n",
       "    nav_element.append(status_bar);\n",
       "    this.message = status_bar[0];\n",
       "}\n",
       "\n",
       "mpl.figure.prototype.request_resize = function(x_pixels, y_pixels) {\n",
       "    // Request matplotlib to resize the figure. Matplotlib will then trigger a resize in the client,\n",
       "    // which will in turn request a refresh of the image.\n",
       "    this.send_message('resize', {'width': x_pixels, 'height': y_pixels});\n",
       "}\n",
       "\n",
       "mpl.figure.prototype.send_message = function(type, properties) {\n",
       "    properties['type'] = type;\n",
       "    properties['figure_id'] = this.id;\n",
       "    this.ws.send(JSON.stringify(properties));\n",
       "}\n",
       "\n",
       "mpl.figure.prototype.send_draw_message = function() {\n",
       "    if (!this.waiting) {\n",
       "        this.waiting = true;\n",
       "        this.ws.send(JSON.stringify({type: \"draw\", figure_id: this.id}));\n",
       "    }\n",
       "}\n",
       "\n",
       "\n",
       "mpl.figure.prototype.handle_save = function(fig, msg) {\n",
       "    var format_dropdown = fig.format_dropdown;\n",
       "    var format = format_dropdown.options[format_dropdown.selectedIndex].value;\n",
       "    fig.ondownload(fig, format);\n",
       "}\n",
       "\n",
       "\n",
       "mpl.figure.prototype.handle_resize = function(fig, msg) {\n",
       "    var size = msg['size'];\n",
       "    if (size[0] != fig.canvas.width || size[1] != fig.canvas.height) {\n",
       "        fig._resize_canvas(size[0], size[1]);\n",
       "        fig.send_message(\"refresh\", {});\n",
       "    };\n",
       "}\n",
       "\n",
       "mpl.figure.prototype.handle_rubberband = function(fig, msg) {\n",
       "    var x0 = msg['x0'];\n",
       "    var y0 = fig.canvas.height - msg['y0'];\n",
       "    var x1 = msg['x1'];\n",
       "    var y1 = fig.canvas.height - msg['y1'];\n",
       "    x0 = Math.floor(x0) + 0.5;\n",
       "    y0 = Math.floor(y0) + 0.5;\n",
       "    x1 = Math.floor(x1) + 0.5;\n",
       "    y1 = Math.floor(y1) + 0.5;\n",
       "    var min_x = Math.min(x0, x1);\n",
       "    var min_y = Math.min(y0, y1);\n",
       "    var width = Math.abs(x1 - x0);\n",
       "    var height = Math.abs(y1 - y0);\n",
       "\n",
       "    fig.rubberband_context.clearRect(\n",
       "        0, 0, fig.canvas.width, fig.canvas.height);\n",
       "\n",
       "    fig.rubberband_context.strokeRect(min_x, min_y, width, height);\n",
       "}\n",
       "\n",
       "mpl.figure.prototype.handle_figure_label = function(fig, msg) {\n",
       "    // Updates the figure title.\n",
       "    fig.header.textContent = msg['label'];\n",
       "}\n",
       "\n",
       "mpl.figure.prototype.handle_cursor = function(fig, msg) {\n",
       "    var cursor = msg['cursor'];\n",
       "    switch(cursor)\n",
       "    {\n",
       "    case 0:\n",
       "        cursor = 'pointer';\n",
       "        break;\n",
       "    case 1:\n",
       "        cursor = 'default';\n",
       "        break;\n",
       "    case 2:\n",
       "        cursor = 'crosshair';\n",
       "        break;\n",
       "    case 3:\n",
       "        cursor = 'move';\n",
       "        break;\n",
       "    }\n",
       "    fig.rubberband_canvas.style.cursor = cursor;\n",
       "}\n",
       "\n",
       "mpl.figure.prototype.handle_message = function(fig, msg) {\n",
       "    fig.message.textContent = msg['message'];\n",
       "}\n",
       "\n",
       "mpl.figure.prototype.handle_draw = function(fig, msg) {\n",
       "    // Request the server to send over a new figure.\n",
       "    fig.send_draw_message();\n",
       "}\n",
       "\n",
       "mpl.figure.prototype.handle_image_mode = function(fig, msg) {\n",
       "    fig.image_mode = msg['mode'];\n",
       "}\n",
       "\n",
       "mpl.figure.prototype.updated_canvas_event = function() {\n",
       "    // Called whenever the canvas gets updated.\n",
       "    this.send_message(\"ack\", {});\n",
       "}\n",
       "\n",
       "// A function to construct a web socket function for onmessage handling.\n",
       "// Called in the figure constructor.\n",
       "mpl.figure.prototype._make_on_message_function = function(fig) {\n",
       "    return function socket_on_message(evt) {\n",
       "        if (evt.data instanceof Blob) {\n",
       "            /* FIXME: We get \"Resource interpreted as Image but\n",
       "             * transferred with MIME type text/plain:\" errors on\n",
       "             * Chrome.  But how to set the MIME type?  It doesn't seem\n",
       "             * to be part of the websocket stream */\n",
       "            evt.data.type = \"image/png\";\n",
       "\n",
       "            /* Free the memory for the previous frames */\n",
       "            if (fig.imageObj.src) {\n",
       "                (window.URL || window.webkitURL).revokeObjectURL(\n",
       "                    fig.imageObj.src);\n",
       "            }\n",
       "\n",
       "            fig.imageObj.src = (window.URL || window.webkitURL).createObjectURL(\n",
       "                evt.data);\n",
       "            fig.updated_canvas_event();\n",
       "            return;\n",
       "        }\n",
       "        else if (typeof evt.data === 'string' && evt.data.slice(0, 21) == \"data:image/png;base64\") {\n",
       "            fig.imageObj.src = evt.data;\n",
       "            fig.updated_canvas_event();\n",
       "            return;\n",
       "        }\n",
       "\n",
       "        var msg = JSON.parse(evt.data);\n",
       "        var msg_type = msg['type'];\n",
       "\n",
       "        // Call the  \"handle_{type}\" callback, which takes\n",
       "        // the figure and JSON message as its only arguments.\n",
       "        try {\n",
       "            var callback = fig[\"handle_\" + msg_type];\n",
       "        } catch (e) {\n",
       "            console.log(\"No handler for the '\" + msg_type + \"' message type: \", msg);\n",
       "            return;\n",
       "        }\n",
       "\n",
       "        if (callback) {\n",
       "            try {\n",
       "                // console.log(\"Handling '\" + msg_type + \"' message: \", msg);\n",
       "                callback(fig, msg);\n",
       "            } catch (e) {\n",
       "                console.log(\"Exception inside the 'handler_\" + msg_type + \"' callback:\", e, e.stack, msg);\n",
       "            }\n",
       "        }\n",
       "    };\n",
       "}\n",
       "\n",
       "// from http://stackoverflow.com/questions/1114465/getting-mouse-location-in-canvas\n",
       "mpl.findpos = function(e) {\n",
       "    //this section is from http://www.quirksmode.org/js/events_properties.html\n",
       "    var targ;\n",
       "    if (!e)\n",
       "        e = window.event;\n",
       "    if (e.target)\n",
       "        targ = e.target;\n",
       "    else if (e.srcElement)\n",
       "        targ = e.srcElement;\n",
       "    if (targ.nodeType == 3) // defeat Safari bug\n",
       "        targ = targ.parentNode;\n",
       "\n",
       "    // jQuery normalizes the pageX and pageY\n",
       "    // pageX,Y are the mouse positions relative to the document\n",
       "    // offset() returns the position of the element relative to the document\n",
       "    var x = e.pageX - $(targ).offset().left;\n",
       "    var y = e.pageY - $(targ).offset().top;\n",
       "\n",
       "    return {\"x\": x, \"y\": y};\n",
       "};\n",
       "\n",
       "mpl.figure.prototype.mouse_event = function(event, name) {\n",
       "    var canvas_pos = mpl.findpos(event)\n",
       "\n",
       "    if (name === 'button_press')\n",
       "    {\n",
       "        this.canvas.focus();\n",
       "        this.canvas_div.focus();\n",
       "    }\n",
       "\n",
       "    var x = canvas_pos.x;\n",
       "    var y = canvas_pos.y;\n",
       "\n",
       "    this.send_message(name, {x: x, y: y, button: event.button,\n",
       "                             step: event.step});\n",
       "\n",
       "    /* This prevents the web browser from automatically changing to\n",
       "     * the text insertion cursor when the button is pressed.  We want\n",
       "     * to control all of the cursor setting manually through the\n",
       "     * 'cursor' event from matplotlib */\n",
       "    event.preventDefault();\n",
       "    return false;\n",
       "}\n",
       "\n",
       "mpl.figure.prototype._key_event_extra = function(event, name) {\n",
       "    // Handle any extra behaviour associated with a key event\n",
       "}\n",
       "\n",
       "mpl.figure.prototype.key_event = function(event, name) {\n",
       "\n",
       "    // Prevent repeat events\n",
       "    if (name == 'key_press')\n",
       "    {\n",
       "        if (event.which === this._key)\n",
       "            return;\n",
       "        else\n",
       "            this._key = event.which;\n",
       "    }\n",
       "    if (name == 'key_release')\n",
       "        this._key = null;\n",
       "\n",
       "    var value = '';\n",
       "    if (event.ctrlKey && event.which != 17)\n",
       "        value += \"ctrl+\";\n",
       "    if (event.altKey && event.which != 18)\n",
       "        value += \"alt+\";\n",
       "    if (event.shiftKey && event.which != 16)\n",
       "        value += \"shift+\";\n",
       "\n",
       "    value += 'k';\n",
       "    value += event.which.toString();\n",
       "\n",
       "    this._key_event_extra(event, name);\n",
       "\n",
       "    this.send_message(name, {key: value});\n",
       "    return false;\n",
       "}\n",
       "\n",
       "mpl.figure.prototype.toolbar_button_onclick = function(name) {\n",
       "    if (name == 'download') {\n",
       "        this.handle_save(this, null);\n",
       "    } else {\n",
       "        this.send_message(\"toolbar_button\", {name: name});\n",
       "    }\n",
       "};\n",
       "\n",
       "mpl.figure.prototype.toolbar_button_onmouseover = function(tooltip) {\n",
       "    this.message.textContent = tooltip;\n",
       "};\n",
       "mpl.toolbar_items = [[\"Home\", \"Reset original view\", \"fa fa-home icon-home\", \"home\"], [\"Back\", \"Back to  previous view\", \"fa fa-arrow-left icon-arrow-left\", \"back\"], [\"Forward\", \"Forward to next view\", \"fa fa-arrow-right icon-arrow-right\", \"forward\"], [\"\", \"\", \"\", \"\"], [\"Pan\", \"Pan axes with left mouse, zoom with right\", \"fa fa-arrows icon-move\", \"pan\"], [\"Zoom\", \"Zoom to rectangle\", \"fa fa-square-o icon-check-empty\", \"zoom\"], [\"\", \"\", \"\", \"\"], [\"Download\", \"Download plot\", \"fa fa-floppy-o icon-save\", \"download\"]];\n",
       "\n",
       "mpl.extensions = [\"eps\", \"jpeg\", \"pdf\", \"png\", \"ps\", \"raw\", \"svg\", \"tif\"];\n",
       "\n",
       "mpl.default_extension = \"png\";var comm_websocket_adapter = function(comm) {\n",
       "    // Create a \"websocket\"-like object which calls the given IPython comm\n",
       "    // object with the appropriate methods. Currently this is a non binary\n",
       "    // socket, so there is still some room for performance tuning.\n",
       "    var ws = {};\n",
       "\n",
       "    ws.close = function() {\n",
       "        comm.close()\n",
       "    };\n",
       "    ws.send = function(m) {\n",
       "        //console.log('sending', m);\n",
       "        comm.send(m);\n",
       "    };\n",
       "    // Register the callback with on_msg.\n",
       "    comm.on_msg(function(msg) {\n",
       "        //console.log('receiving', msg['content']['data'], msg);\n",
       "        // Pass the mpl event to the overriden (by mpl) onmessage function.\n",
       "        ws.onmessage(msg['content']['data'])\n",
       "    });\n",
       "    return ws;\n",
       "}\n",
       "\n",
       "mpl.mpl_figure_comm = function(comm, msg) {\n",
       "    // This is the function which gets called when the mpl process\n",
       "    // starts-up an IPython Comm through the \"matplotlib\" channel.\n",
       "\n",
       "    var id = msg.content.data.id;\n",
       "    // Get hold of the div created by the display call when the Comm\n",
       "    // socket was opened in Python.\n",
       "    var element = $(\"#\" + id);\n",
       "    var ws_proxy = comm_websocket_adapter(comm)\n",
       "\n",
       "    function ondownload(figure, format) {\n",
       "        window.open(figure.imageObj.src);\n",
       "    }\n",
       "\n",
       "    var fig = new mpl.figure(id, ws_proxy,\n",
       "                           ondownload,\n",
       "                           element.get(0));\n",
       "\n",
       "    // Call onopen now - mpl needs it, as it is assuming we've passed it a real\n",
       "    // web socket which is closed, not our websocket->open comm proxy.\n",
       "    ws_proxy.onopen();\n",
       "\n",
       "    fig.parent_element = element.get(0);\n",
       "    fig.cell_info = mpl.find_output_cell(\"<div id='\" + id + \"'></div>\");\n",
       "    if (!fig.cell_info) {\n",
       "        console.error(\"Failed to find cell for figure\", id, fig);\n",
       "        return;\n",
       "    }\n",
       "\n",
       "    var output_index = fig.cell_info[2]\n",
       "    var cell = fig.cell_info[0];\n",
       "\n",
       "};\n",
       "\n",
       "mpl.figure.prototype.handle_close = function(fig, msg) {\n",
       "    // Update the output cell to use the data from the current canvas.\n",
       "    fig.push_to_output();\n",
       "    var dataURL = fig.canvas.toDataURL();\n",
       "    // Re-enable the keyboard manager in IPython - without this line, in FF,\n",
       "    // the notebook keyboard shortcuts fail.\n",
       "    IPython.keyboard_manager.enable()\n",
       "    $(fig.parent_element).html('<img src=\"' + dataURL + '\">');\n",
       "    fig.send_message('closing', {});\n",
       "    fig.ws.close()\n",
       "}\n",
       "\n",
       "mpl.figure.prototype.push_to_output = function(remove_interactive) {\n",
       "    // Turn the data on the canvas into data in the output cell.\n",
       "    var dataURL = this.canvas.toDataURL();\n",
       "    this.cell_info[1]['text/html'] = '<img src=\"' + dataURL + '\">';\n",
       "}\n",
       "\n",
       "mpl.figure.prototype.updated_canvas_event = function() {\n",
       "    // Tell IPython that the notebook contents must change.\n",
       "    IPython.notebook.set_dirty(true);\n",
       "    this.send_message(\"ack\", {});\n",
       "    var fig = this;\n",
       "    // Wait a second, then push the new image to the DOM so\n",
       "    // that it is saved nicely (might be nice to debounce this).\n",
       "    setTimeout(function () { fig.push_to_output() }, 1000);\n",
       "}\n",
       "\n",
       "mpl.figure.prototype._init_toolbar = function() {\n",
       "    var fig = this;\n",
       "\n",
       "    var nav_element = $('<div/>')\n",
       "    nav_element.attr('style', 'width: 100%');\n",
       "    this.root.append(nav_element);\n",
       "\n",
       "    // Define a callback function for later on.\n",
       "    function toolbar_event(event) {\n",
       "        return fig.toolbar_button_onclick(event['data']);\n",
       "    }\n",
       "    function toolbar_mouse_event(event) {\n",
       "        return fig.toolbar_button_onmouseover(event['data']);\n",
       "    }\n",
       "\n",
       "    for(var toolbar_ind in mpl.toolbar_items){\n",
       "        var name = mpl.toolbar_items[toolbar_ind][0];\n",
       "        var tooltip = mpl.toolbar_items[toolbar_ind][1];\n",
       "        var image = mpl.toolbar_items[toolbar_ind][2];\n",
       "        var method_name = mpl.toolbar_items[toolbar_ind][3];\n",
       "\n",
       "        if (!name) { continue; };\n",
       "\n",
       "        var button = $('<button class=\"btn btn-default\" href=\"#\" title=\"' + name + '\"><i class=\"fa ' + image + ' fa-lg\"></i></button>');\n",
       "        button.click(method_name, toolbar_event);\n",
       "        button.mouseover(tooltip, toolbar_mouse_event);\n",
       "        nav_element.append(button);\n",
       "    }\n",
       "\n",
       "    // Add the status bar.\n",
       "    var status_bar = $('<span class=\"mpl-message\" style=\"text-align:right; float: right;\"/>');\n",
       "    nav_element.append(status_bar);\n",
       "    this.message = status_bar[0];\n",
       "\n",
       "    // Add the close button to the window.\n",
       "    var buttongrp = $('<div class=\"btn-group inline pull-right\"></div>');\n",
       "    var button = $('<button class=\"btn btn-mini btn-danger\" href=\"#\" title=\"Close figure\"><i class=\"fa fa-times icon-remove icon-large\"></i></button>');\n",
       "    button.click(function (evt) { fig.handle_close(fig, {}); } );\n",
       "    button.mouseover('Close figure', toolbar_mouse_event);\n",
       "    buttongrp.append(button);\n",
       "    var titlebar = this.root.find($('.ui-dialog-titlebar'));\n",
       "    titlebar.prepend(buttongrp);\n",
       "}\n",
       "\n",
       "\n",
       "mpl.figure.prototype._canvas_extra_style = function(el){\n",
       "    // this is important to make the div 'focusable\n",
       "    el.attr('tabindex', 0)\n",
       "    // reach out to IPython and tell the keyboard manager to turn it's self\n",
       "    // off when our div gets focus\n",
       "\n",
       "    // location in version 3\n",
       "    if (IPython.notebook.keyboard_manager) {\n",
       "        IPython.notebook.keyboard_manager.register_events(el);\n",
       "    }\n",
       "    else {\n",
       "        // location in version 2\n",
       "        IPython.keyboard_manager.register_events(el);\n",
       "    }\n",
       "\n",
       "}\n",
       "\n",
       "mpl.figure.prototype._key_event_extra = function(event, name) {\n",
       "    var manager = IPython.notebook.keyboard_manager;\n",
       "    if (!manager)\n",
       "        manager = IPython.keyboard_manager;\n",
       "\n",
       "    // Check for shift+enter\n",
       "    if (event.shiftKey && event.which == 13) {\n",
       "        this.canvas_div.blur();\n",
       "        event.shiftKey = false;\n",
       "        // Send a \"J\" for go to next cell\n",
       "        event.which = 74;\n",
       "        event.keyCode = 74;\n",
       "        manager.command_mode();\n",
       "        manager.handle_keydown(event);\n",
       "    }\n",
       "}\n",
       "\n",
       "mpl.figure.prototype.handle_save = function(fig, msg) {\n",
       "    fig.ondownload(fig, null);\n",
       "}\n",
       "\n",
       "\n",
       "mpl.find_output_cell = function(html_output) {\n",
       "    // Return the cell and output element which can be found *uniquely* in the notebook.\n",
       "    // Note - this is a bit hacky, but it is done because the \"notebook_saving.Notebook\"\n",
       "    // IPython event is triggered only after the cells have been serialised, which for\n",
       "    // our purposes (turning an active figure into a static one), is too late.\n",
       "    var cells = IPython.notebook.get_cells();\n",
       "    var ncells = cells.length;\n",
       "    for (var i=0; i<ncells; i++) {\n",
       "        var cell = cells[i];\n",
       "        if (cell.cell_type === 'code'){\n",
       "            for (var j=0; j<cell.output_area.outputs.length; j++) {\n",
       "                var data = cell.output_area.outputs[j];\n",
       "                if (data.data) {\n",
       "                    // IPython >= 3 moved mimebundle to data attribute of output\n",
       "                    data = data.data;\n",
       "                }\n",
       "                if (data['text/html'] == html_output) {\n",
       "                    return [cell, data, j];\n",
       "                }\n",
       "            }\n",
       "        }\n",
       "    }\n",
       "}\n",
       "\n",
       "// Register the function which deals with the matplotlib target/channel.\n",
       "// The kernel may be null if the page has been refreshed.\n",
       "if (IPython.notebook.kernel != null) {\n",
       "    IPython.notebook.kernel.comm_manager.register_target('matplotlib', mpl.mpl_figure_comm);\n",
       "}\n"
      ],
      "text/plain": [
       "<IPython.core.display.Javascript object>"
      ]
     },
     "metadata": {},
     "output_type": "display_data"
    },
    {
     "data": {
      "text/html": [
       "<img src=\"data:image/png;base64,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\">"
      ],
      "text/plain": [
       "<IPython.core.display.HTML object>"
      ]
     },
     "metadata": {},
     "output_type": "display_data"
    }
   ],
   "source": [
    "%matplotlib notebook\n",
    "from ipywidgets import HBox, VBox, Button\n",
    "from IPython.display import display\n",
    "from matplotlib import pyplot as plt\n",
    "\n",
    "red = Button(description='Make Red')\n",
    "green = Button(description='Make Green')\n",
    "\n",
    "fig, ax = plt.subplots()\n",
    "ax.plot([1,2,3])\n",
    "\n",
    "def make_red(button):\n",
    "    ax.lines[0].set_color('red')\n",
    "    ax.figure.canvas.draw()\n",
    "\n",
    "def make_green(button):\n",
    "    ax.lines[0].set_color('green')\n",
    "    ax.figure.canvas.draw()\n",
    "\n",
    "red.on_click(make_red)\n",
    "green.on_click(make_green)\n",
    "display(HBox([red, green]))"
   ]
  },
  {
   "cell_type": "code",
   "execution_count": 19,
   "metadata": {
    "collapsed": false
   },
   "outputs": [
    {
     "name": "stderr",
     "output_type": "stream",
     "text": [
      "/Users/raymondyee/anaconda/envs/myenv/lib/python2.7/site-packages/ipykernel/__main__.py:7: DeprecationWarning: on_trait_change is deprecated: use observe instead\n"
     ]
    }
   ],
   "source": [
    "int_range = widgets.IntSlider()\n",
    "display(int_range)\n",
    "\n",
    "def on_value_change(name, value):\n",
    "    print(value)\n",
    "\n",
    "int_range.on_trait_change(on_value_change, 'value')"
   ]
  },
  {
   "cell_type": "code",
   "execution_count": 20,
   "metadata": {
    "collapsed": false
   },
   "outputs": [
    {
     "name": "stderr",
     "output_type": "stream",
     "text": [
      "/Users/raymondyee/anaconda/envs/myenv/lib/python2.7/site-packages/ipykernel/__main__.py:14: DeprecationWarning: on_trait_change is deprecated: use observe instead\n"
     ]
    }
   ],
   "source": [
    "from __future__ import print_function\n",
    "\n",
    "t_widget = widgets.Text()\n",
    "display(t_widget)\n",
    "\n",
    "num_events = 0\n",
    "\n",
    "def on_text_change(name, value):\n",
    "    \n",
    "    global num_events \n",
    "    print ('\\r{}: {}'.format(num_events, value), end=\"\")\n",
    "    num_events +=1\n",
    "    \n",
    "t_widget.on_trait_change(on_text_change, 'value')"
   ]
  },
  {
   "cell_type": "code",
   "execution_count": 21,
   "metadata": {
    "collapsed": false
   },
   "outputs": [
    {
     "data": {
      "text/plain": [
       "['_view_name',\n",
       " '_msg_callbacks',\n",
       " '_states_to_send',\n",
       " 'color',\n",
       " '_view_module',\n",
       " 'height',\n",
       " '_property_lock',\n",
       " 'visible',\n",
       " 'border_radius',\n",
       " 'border_width',\n",
       " 'background_color',\n",
       " 'font_style',\n",
       " 'layout',\n",
       " 'log',\n",
       " '_display_callbacks',\n",
       " '_model_module',\n",
       " 'width',\n",
       " 'config',\n",
       " 'font_family',\n",
       " '_dom_classes',\n",
       " 'description',\n",
       " 'parent',\n",
       " '_model_name',\n",
       " 'keys',\n",
       " 'border_color',\n",
       " 'padding',\n",
       " 'font_weight',\n",
       " 'comm',\n",
       " 'placeholder',\n",
       " 'border_style',\n",
       " 'disabled',\n",
       " 'font_size',\n",
       " 'msg_throttle',\n",
       " 'value',\n",
       " 'margin']"
      ]
     },
     "execution_count": 21,
     "metadata": {},
     "output_type": "execute_result"
    }
   ],
   "source": [
    "# list of traits -- lot more traits than I expected.\n",
    "t_widget.trait_names()"
   ]
  },
  {
   "cell_type": "code",
   "execution_count": null,
   "metadata": {
    "collapsed": false
   },
   "outputs": [],
   "source": [
    "t_widget.background_color = '#FFFF00'\n",
    "t_widget.border_color = 'blue'"
   ]
  },
  {
   "cell_type": "code",
   "execution_count": null,
   "metadata": {
    "collapsed": false
   },
   "outputs": [],
   "source": [
    "t_widget.value = \"dddd\""
   ]
  },
  {
   "cell_type": "code",
   "execution_count": null,
   "metadata": {
    "collapsed": false
   },
   "outputs": [],
   "source": [
    "from collections import OrderedDict\n",
    "import datetime\n",
    "\n",
    "def inv_dict(d):\n",
    "    return dict([(v,k) for (k,v) in d.items()])\n",
    "\n",
    "w = widgets.Dropdown(\n",
    "    options=OrderedDict([('Apple', 1), ('Orange', 2), ('Plum', 3), ('Watermelon',4)]),\n",
    "    value=2,\n",
    "    description='Number:',\n",
    ")\n",
    "\n",
    "def w_changed(name, value):\n",
    "    d = inv_dict(w.options)\n",
    "    \n",
    "    t_widget.value = unicode(unicode(value) + \":\" + d.get(value,''))\n",
    "\n",
    "w.on_trait_change(w_changed, 'value')\n",
    "\n",
    "t_widget = widgets.Text()\n",
    "\n",
    "display(w, t_widget)\n",
    "\n"
   ]
  },
  {
   "cell_type": "code",
   "execution_count": null,
   "metadata": {
    "collapsed": false
   },
   "outputs": [],
   "source": [
    "OrderedDict([(v,k) for (k,v) in w.options.items()])"
   ]
  },
  {
   "cell_type": "code",
   "execution_count": null,
   "metadata": {
    "collapsed": false
   },
   "outputs": [],
   "source": [
    "w.value = 4"
   ]
  },
  {
   "cell_type": "code",
   "execution_count": null,
   "metadata": {
    "collapsed": false
   },
   "outputs": [],
   "source": [
    "w.options = OrderedDict(w.options.items() + [('Peaches', 5)])"
   ]
  },
  {
   "cell_type": "code",
   "execution_count": null,
   "metadata": {
    "collapsed": false
   },
   "outputs": [],
   "source": [
    "from IPython.display import HTML\n",
    "HTML(\"<div>hello</div>\")"
   ]
  },
  {
   "cell_type": "code",
   "execution_count": null,
   "metadata": {
    "collapsed": false
   },
   "outputs": [],
   "source": [
    "qgrid.show_grid(spy)"
   ]
  },
  {
   "cell_type": "markdown",
   "metadata": {},
   "source": [
    "# how to use/extend qqgrid widget?\n",
    "\n",
    "How to use `QGridWidget`, identified in [Add an IPython widget by blink1073 · Pull Request #27 · quantopian/qgrid](https://github.com/quantopian/qgrid/pull/27/files#diff-2559840b81815e696a22fbaee6294b66R172)?\n",
    "\n",
    "My impression is that we still use the main `qgrid.show_grid` but that we can make use of events in the underlying `QGridWidget`.  Let's see. "
   ]
  },
  {
   "cell_type": "markdown",
   "metadata": {},
   "source": [
    "# little detour into learning about making custom widgets"
   ]
  },
  {
   "cell_type": "code",
   "execution_count": null,
   "metadata": {
    "collapsed": true
   },
   "outputs": [],
   "source": [
    "from ipywidgets import widgets\n",
    "import traitlets"
   ]
  },
  {
   "cell_type": "code",
   "execution_count": null,
   "metadata": {
    "collapsed": false
   },
   "outputs": [],
   "source": [
    "class HelloView(widgets.DOMWidget):\n",
    "    _view_name = traitlets.Unicode(\"HelloView\", sync=True)\n",
    "    value = traitlets.Unicode(\"Hello World\", sync=True)\n"
   ]
  },
  {
   "cell_type": "code",
   "execution_count": null,
   "metadata": {
    "collapsed": false
   },
   "outputs": [],
   "source": [
    "%%javascript\n",
    "requirejs(['nbextensions/widgets/widgets/js/widget',\n",
    "         'nbextensions/widgets/widgets/js/manager',], function(widget, manager){\n",
    "    \n",
    "    var HelloView = widget.DOMWidgetView.extend({\n",
    "        \n",
    "        render: function(){\n",
    "            this.value_changed();\n",
    "            this.model.on('change:value', this.value_changed, this);\n",
    "        },\n",
    "        \n",
    "        value_changed: function () {\n",
    "            this.$el.text(\n",
    "              this.model.get('value')\n",
    "            )\n",
    "            \n",
    "        }\n",
    "        \n",
    "    });\n",
    "    \n",
    "    manager.WidgetManager.register_widget_view('HelloView', HelloView);\n",
    "    \n",
    "})"
   ]
  },
  {
   "cell_type": "code",
   "execution_count": null,
   "metadata": {
    "collapsed": true
   },
   "outputs": [],
   "source": [
    "h = HelloView()\n",
    "h"
   ]
  },
  {
   "cell_type": "code",
   "execution_count": null,
   "metadata": {
    "collapsed": true
   },
   "outputs": [],
   "source": [
    "h.value = \"dog\""
   ]
  },
  {
   "cell_type": "code",
   "execution_count": null,
   "metadata": {
    "collapsed": false
   },
   "outputs": [],
   "source": [
    "# jquery-ui spinner\n",
    "\n",
    "from nbfiddle import Fiddle"
   ]
  },
  {
   "cell_type": "code",
   "execution_count": null,
   "metadata": {
    "collapsed": false
   },
   "outputs": [],
   "source": [
    "# datepicker\n",
    "\n",
    "Fiddle(\n",
    "  html = \"\"\"\n",
    "    <input type=\"text\" name=\"date\" class=\"date1\"/>\n",
    "  \"\"\",\n",
    "    \n",
    "  js = \"\"\"\n",
    "    $('#{{div_id}} input.date1').datepicker();\n",
    "  \"\"\",\n",
    "  jslibs = ((\"jquery-ui\", \"https://code.jquery.com/ui/1.11.4/jquery-ui.min\", \"jqu\"),),\n",
    "  csslibs = ('https://cdnjs.cloudflare.com/ajax/libs/jqueryui/1.11.4/jquery-ui.css',)\n",
    ")"
   ]
  },
  {
   "cell_type": "code",
   "execution_count": null,
   "metadata": {
    "collapsed": false
   },
   "outputs": [],
   "source": [
    "# datepicker w/o adding jquery-ui -- built in?\n",
    "\n",
    "Fiddle(\n",
    "  html = \"\"\"\n",
    "    <input type=\"text\" name=\"date\" class=\"date1\"/>\n",
    "  \"\"\",\n",
    "    \n",
    "  js = \"\"\"\n",
    "    $('#{{div_id}} input.date1').datepicker();\n",
    "  \"\"\",\n",
    "  csslibs = ('https://cdnjs.cloudflare.com/ajax/libs/jqueryui/1.11.4/jquery-ui.css',)\n",
    ")"
   ]
  },
  {
   "cell_type": "code",
   "execution_count": null,
   "metadata": {
    "collapsed": false
   },
   "outputs": [],
   "source": [
    "# spinner\n",
    "# https://jqueryui.com/spinner/\n",
    "\n",
    "\n",
    "Fiddle(\n",
    "  html = \"\"\"\n",
    "<p>\n",
    "  <label for=\"spinner\">Select a value:</label>\n",
    "  <input class=\"spinner\" name=\"value\">\n",
    "</p>\n",
    "<p>\n",
    "  <label>Value:</label>\n",
    "  <span class=\"reflected_val\"></span>\n",
    "</p>\n",
    "  \"\"\",\n",
    "    \n",
    "  js = \"\"\"\n",
    "    var spinner = $( \"#{{div_id}} .spinner\" ).spinner();\n",
    "    spinner.spinner( \"value\", 2 );\n",
    "\n",
    "    var reflected_val = $(\"#{{div_id}} .reflected_val\");\n",
    "   \n",
    "    spinner.on( \"spinchange\", function( event, ui ) {\n",
    "        console.log(ui);\n",
    "        reflected_val.text(spinner.val());\n",
    "    } );\n",
    "    \n",
    "    spinner.on(\"spin\", function(event, ui){\n",
    "        reflected_val.text(ui.value);\n",
    "    \n",
    "    })\n",
    "  \"\"\",\n",
    "  jslibs = ((\"jquery-ui\", \"https://code.jquery.com/ui/1.11.4/jquery-ui.min\", \"jqu\"),),\n",
    "  csslibs = ('https://cdnjs.cloudflare.com/ajax/libs/jqueryui/1.11.4/jquery-ui.css',)\n",
    ")"
   ]
  },
  {
   "cell_type": "markdown",
   "metadata": {
    "collapsed": true
   },
   "source": [
    "# location of files installed by ipywidgets, etc.\n",
    "\n",
    "\n",
    "I'm trying to understand how various **things** are packaged:\n",
    "\n",
    "* nbextensions\n",
    "* IPython widgets\n",
    "\n",
    "Recall \n",
    "\n",
    "* Python env:\n",
    "* IPython env\n",
    "\n",
    "What's the meaning of `nbextensions/widgets/widgets/js/widget`?"
   ]
  },
  {
   "cell_type": "code",
   "execution_count": 1,
   "metadata": {
    "collapsed": false
   },
   "outputs": [
    {
     "name": "stdout",
     "output_type": "stream",
     "text": [
      "/Users/raymondyee/.ipython:\n",
      "total 24\n",
      "drwxr-xr-x    7 raymondyee  staff   238 May 10  2015 .\n",
      "drwxr-xr-x+ 137 raymondyee  staff  4658 Jan 28 21:50 ..\n",
      "-rw-r--r--@   1 raymondyee  staff  6148 May 10  2015 .DS_Store\n",
      "-rw-r--r--    1 raymondyee  staff   195 Aug 13  2014 README\n",
      "drwxr-xr-x    2 raymondyee  staff    68 Aug 13  2014 extensions\n",
      "drwxr-xr-x    2 raymondyee  staff    68 Aug 13  2014 nbextensions\n",
      "drwxr-xr-x    9 raymondyee  staff   306 Jan 29 08:45 profile_default\n",
      "\n",
      "/Users/raymondyee/.jupyter:\n",
      "total 40\n",
      "drwxr-xr-x    8 raymondyee  staff   272 Dec  6 15:03 .\n",
      "drwxr-xr-x+ 137 raymondyee  staff  4658 Jan 28 21:50 ..\n",
      "-rw-r--r--    1 raymondyee  staff   333 Dec  6 14:55 jupyter_nbconvert_config.json\n",
      "-rw-r--r--    1 raymondyee  staff   327 Dec  6 14:55 jupyter_nbconvert_config.py\n",
      "-rw-r--r--    1 raymondyee  staff   411 Dec  6 14:55 jupyter_notebook_config.json\n",
      "-rw-r--r--    1 raymondyee  staff   331 Dec  6 14:55 jupyter_notebook_config.py\n",
      "-rw-r--r--    1 raymondyee  staff    26 Aug 14 11:20 migrated\n",
      "drwxr-xr-x    3 raymondyee  staff   102 Dec  6 15:03 nbconfig\n"
     ]
    }
   ],
   "source": [
    "%%bash\n",
    "\n",
    "ls -al ~/.ipython ~/.jupyter"
   ]
  },
  {
   "cell_type": "code",
   "execution_count": 2,
   "metadata": {
    "collapsed": false
   },
   "outputs": [
    {
     "data": {
      "text/plain": [
       "('/Users/raymondyee/.jupyter', '/Users/raymondyee/Library/Jupyter')"
      ]
     },
     "execution_count": 2,
     "metadata": {},
     "output_type": "execute_result"
    }
   ],
   "source": [
    "from jupyter_core.paths import jupyter_config_dir, jupyter_data_dir\n",
    "jupyter_config_dir(), jupyter_data_dir()"
   ]
  },
  {
   "cell_type": "code",
   "execution_count": 3,
   "metadata": {
    "collapsed": false
   },
   "outputs": [
    {
     "name": "stdout",
     "output_type": "stream",
     "text": [
      "codemirrormode\n",
      "config\n",
      "publishing\n",
      "qgridjs\n",
      "slidemode\n",
      "styling\n",
      "testing\n",
      "usability\n"
     ]
    }
   ],
   "source": [
    "%%bash\n",
    "\n",
    "ls /Users/raymondyee/Library/Jupyter/nbextensions/"
   ]
  },
  {
   "cell_type": "code",
   "execution_count": null,
   "metadata": {
    "collapsed": true
   },
   "outputs": [],
   "source": [
    "import notebook.nbextensions"
   ]
  },
  {
   "cell_type": "code",
   "execution_count": null,
   "metadata": {
    "collapsed": false
   },
   "outputs": [],
   "source": [
    "dir(notebook.nbextensions)"
   ]
  },
  {
   "cell_type": "markdown",
   "metadata": {},
   "source": [
    "# Cleaning up widgets"
   ]
  },
  {
   "cell_type": "code",
   "execution_count": null,
   "metadata": {
    "collapsed": false
   },
   "outputs": [],
   "source": [
    "assert False"
   ]
  },
  {
   "cell_type": "code",
   "execution_count": null,
   "metadata": {
    "collapsed": false
   },
   "outputs": [],
   "source": [
    "%%javascript\n",
    "\n",
    "// close widgets by clickling on clse buttons.\n",
    "$('div.widget-area button.close:visible').click();"
   ]
  },
  {
   "cell_type": "code",
   "execution_count": null,
   "metadata": {
    "collapsed": true
   },
   "outputs": [],
   "source": []
  }
 ],
 "metadata": {
  "kernelspec": {
   "display_name": "Python 2",
   "language": "python",
   "name": "python2"
  },
  "language_info": {
   "codemirror_mode": {
    "name": "ipython",
    "version": 2
   },
   "file_extension": ".py",
   "mimetype": "text/x-python",
   "name": "python",
   "nbconvert_exporter": "python",
   "pygments_lexer": "ipython2",
   "version": "2.7.11"
  }
 },
 "nbformat": 4,
 "nbformat_minor": 0
}
