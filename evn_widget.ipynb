{
 "cells": [
  {
   "cell_type": "code",
   "execution_count": 1,
   "metadata": {
    "collapsed": false
   },
   "outputs": [],
   "source": [
    "from __future__ import print_function\n",
    "\n",
    "import EvernoteWebUtil as ewu\n",
    "from settings import authToken\n",
    "\n",
    "from sublime_evernote.lib import (markdown2, html2text, pygments)\n",
    "\n",
    "ewu.init(authToken)\n",
    "\n",
    "from evnwidgets import (NotesViewerWidget, NoteEditWidget)"
   ]
  },
  {
   "cell_type": "markdown",
   "metadata": {},
   "source": [
    "# Note editing/creating widget"
   ]
  },
  {
   "cell_type": "code",
   "execution_count": 2,
   "metadata": {
    "collapsed": false
   },
   "outputs": [],
   "source": [
    "ne_widget = NoteEditWidget(ewu)\n",
    "ne_widget"
   ]
  },
  {
   "cell_type": "code",
   "execution_count": 7,
   "metadata": {
    "collapsed": false
   },
   "outputs": [
    {
     "data": {
      "text/plain": [
       "Note(contentHash='\\xa6\\xb8[I8\\x1cM\\x93\\x99\\x96Y\\xf8\\xec\\xe8\\x9e\\xbc', updated=1455220757000, created=1455220738000, deleted=None, contentLength=146, title='Test 2016.02.11', notebookGuid='8c4fc579-6a22-400c-8592-c5ae825ec53e', content='<?xml version=\"1.0\" encoding=\"UTF-8\" standalone=\"no\"?>\\n<!DOCTYPE en-note SYSTEM \"http://xml.evernote.com/pub/enml2.dtd\">\\n<en-note>hello</en-note>\\n', tagNames=None, updateSequenceNum=100624, tagGuids=None, active=True, attributes=NoteAttributes(lastEditorId=None, placeName=None, sourceURL=None, classifications=None, creatorId=None, author='Raymond Yee', reminderTime=None, altitude=51.0, reminderOrder=None, shareDate=None, reminderDoneTime=None, longitude=-122.2662003872553, lastEditedBy=None, source='desktop.mac', applicationData=None, sourceApplication=None, latitude=37.87350349756923, contentClass=None, subjectDate=None), guid='a9b256f2-2975-4870-91f9-d0ecce398d7c', resources=None)"
      ]
     },
     "execution_count": 7,
     "metadata": {},
     "output_type": "execute_result"
    }
   ],
   "source": [
    "note_md = list(ewu.notes(title=\"Test 2016.02.11\"))[0]\n",
    "note = ewu.get_note(note_md.guid, withContent=True)\n",
    "note"
   ]
  },
  {
   "cell_type": "code",
   "execution_count": 8,
   "metadata": {
    "collapsed": true
   },
   "outputs": [],
   "source": [
    "ne_widget.set_note(note)"
   ]
  },
  {
   "cell_type": "code",
   "execution_count": null,
   "metadata": {
    "collapsed": false
   },
   "outputs": [],
   "source": [
    "from ipywidgets import widgets\n",
    "\n",
    "toggle = widgets.ToggleButton(\n",
    "    description='Edit Mode',\n",
    "    value=False,\n",
    ")\n",
    "\n",
    "def handle_toggle_change(change):\n",
    "    print (change['new'])\n",
    "\n",
    "toggle.observe(handle_toggle_change, names='value')\n",
    "\n",
    "toggle"
   ]
  },
  {
   "cell_type": "markdown",
   "metadata": {},
   "source": [
    "# Note viewing widget"
   ]
  },
  {
   "cell_type": "code",
   "execution_count": null,
   "metadata": {
    "collapsed": false
   },
   "outputs": [],
   "source": [
    "import warnings\n",
    "warnings.filterwarnings('ignore')\n",
    "\n",
    "w = NotesViewerWidget(ewu)\n",
    "w"
   ]
  },
  {
   "cell_type": "code",
   "execution_count": null,
   "metadata": {
    "collapsed": true
   },
   "outputs": [],
   "source": [
    "def VBox(*pargs, **kwargs):\n",
    "    \"\"\"Displays multiple widgets vertically using the flexible box model.\"\"\"\n",
    "    kwargs['orientation'] = 'vertical'\n",
    "    return FlexBox(*pargs, **kwargs)\n",
    "\n",
    "\n",
    "def HBox(*pargs, **kwargs):\n",
    "    \"\"\"Displays multiple widgets horizontally using the flexible box model.\"\"\"\n",
    "    kwargs['orientation'] = 'horizontal'\n",
    "    return FlexBox(*pargs, **kwargs)"
   ]
  },
  {
   "cell_type": "code",
   "execution_count": null,
   "metadata": {
    "collapsed": false
   },
   "outputs": [],
   "source": [
    "# subclassing a Box\n",
    "\n",
    "import ipywidgets as widgets\n",
    "from ipywidgets import VBox\n",
    "from IPython.display import display\n",
    "\n",
    "class vbox1(widgets.FlexBox):\n",
    "    def __init__(self, *pargs, **kwargs):\n",
    "        # https://github.com/ipython/ipywidgets/blob/4.1.1/ipywidgets/widgets/widget_box.py#L96\n",
    "        kwargs['orientation'] = 'vertical'\n",
    "        super(vbox1, self).__init__(*pargs, **kwargs)\n",
    "        \n",
    "class hbox1(widgets.FlexBox):\n",
    "    def __init__(self, *pargs, **kwargs):\n",
    "        # https://github.com/ipython/ipywidgets/blob/4.1.1/ipywidgets/widgets/widget_box.py#L96\n",
    "        kwargs['orientation'] = 'horizontal'\n",
    "        super(hbox1, self).__init__(*pargs, **kwargs)\n",
    "\n",
    "class TestPanel(widgets.FlexBox):\n",
    "    def __init__(self, text1, text2):\n",
    "        self.w1 = widgets.Text(text1)\n",
    "        self.w2 = widgets.Text(text2)\n",
    "        kwargs = {'orientation':'horizontal'}\n",
    "        \n",
    "        super(TestPanel, self).__init__([self.w1, self.w2], **kwargs)\n",
    "\n",
    "\n",
    "k = TestPanel('Bonnie', 'Clyde')\n",
    "display(VBox([\n",
    "            widgets.Button(description=\"Impress me!\"),\n",
    "            k\n",
    "        ]))"
   ]
  },
  {
   "cell_type": "code",
   "execution_count": null,
   "metadata": {
    "collapsed": true
   },
   "outputs": [],
   "source": [
    "k.visible = False"
   ]
  },
  {
   "cell_type": "markdown",
   "metadata": {},
   "source": [
    "# NoteEditWidget"
   ]
  },
  {
   "cell_type": "code",
   "execution_count": null,
   "metadata": {
    "collapsed": false
   },
   "outputs": [],
   "source": [
    "edit_w2 = NoteEditWidget2(ewu)\n",
    "display(edit_w2)"
   ]
  },
  {
   "cell_type": "code",
   "execution_count": null,
   "metadata": {
    "collapsed": false
   },
   "outputs": [],
   "source": [
    "edit_w2.note is None"
   ]
  },
  {
   "cell_type": "code",
   "execution_count": null,
   "metadata": {
    "collapsed": true
   },
   "outputs": [],
   "source": [
    "# how to use traitlets with objects like note\n"
   ]
  },
  {
   "cell_type": "markdown",
   "metadata": {},
   "source": [
    "# changing visibility of widget"
   ]
  },
  {
   "cell_type": "code",
   "execution_count": null,
   "metadata": {
    "collapsed": false
   },
   "outputs": [],
   "source": [
    "from ipywidgets import widgets, VBox, HBox\n",
    "from IPython.display import display\n",
    "\n",
    "w1 = widgets.Text(\"display\")\n",
    "w1h = widgets.HTML(\"<b>display</b>\")\n",
    "w1b = VBox([w1h, w1])\n",
    "\n",
    "w2 = widgets.Text(\"edit\")\n",
    "w2h = widgets.HTML(\"<b>edit</b>\")\n",
    "w2b = VBox([w2h, w2])\n",
    "\n",
    "display(HBox([w1b, w2b]))"
   ]
  },
  {
   "cell_type": "code",
   "execution_count": null,
   "metadata": {
    "code_folding": [
     2,
     21
    ],
    "collapsed": false
   },
   "outputs": [],
   "source": [
    "display_flag = True\n",
    "\n",
    "def toggle_display():\n",
    "    \"\"\"\n",
    "    toggle visibility of individual widgets\n",
    "    \"\"\"\n",
    "    global display_flag\n",
    "    \n",
    "    if display_flag:\n",
    "        for w in [w1, w1h]:\n",
    "            w.visible = True\n",
    "        for w in [w2, w2h]:\n",
    "            w.visible = False\n",
    "    else:\n",
    "        for w in [w1, w1h]:\n",
    "            w.visible = False\n",
    "        for w in [w2, w2h]:\n",
    "            w.visible = True\n",
    "    display_flag = not display_flag\n",
    "    \n",
    "    \n",
    "def toggle_display2():\n",
    "    \"\"\"\n",
    "    toggle visibility of containers -- works\n",
    "    \"\"\"\n",
    "    global display_flag\n",
    "    \n",
    "    if display_flag:\n",
    "        w1b.visible = True\n",
    "        w2b.visible = False\n",
    "    else:\n",
    "        w1b.visible = False\n",
    "        w2b.visible = True        \n",
    "    display_flag = not display_flag\n",
    "    "
   ]
  },
  {
   "cell_type": "code",
   "execution_count": null,
   "metadata": {
    "collapsed": true
   },
   "outputs": [],
   "source": [
    "toggle_display2()"
   ]
  },
  {
   "cell_type": "markdown",
   "metadata": {},
   "source": [
    "# Stop"
   ]
  },
  {
   "cell_type": "code",
   "execution_count": null,
   "metadata": {
    "collapsed": false
   },
   "outputs": [],
   "source": [
    "assert False"
   ]
  },
  {
   "cell_type": "code",
   "execution_count": null,
   "metadata": {
    "collapsed": false
   },
   "outputs": [],
   "source": [
    "%%javascript\n",
    "\n",
    "// close widgets by clickling on clse buttons.\n",
    "$('div.widget-area button.close:visible').click();\n"
   ]
  },
  {
   "cell_type": "code",
   "execution_count": null,
   "metadata": {
    "collapsed": true
   },
   "outputs": [],
   "source": []
  }
 ],
 "metadata": {
  "kernelspec": {
   "display_name": "Python 2",
   "language": "python",
   "name": "python2"
  },
  "language_info": {
   "codemirror_mode": {
    "name": "ipython",
    "version": 2
   },
   "file_extension": ".py",
   "mimetype": "text/x-python",
   "name": "python",
   "nbconvert_exporter": "python",
   "pygments_lexer": "ipython2",
   "version": "2.7.11"
  }
 },
 "nbformat": 4,
 "nbformat_minor": 0
}
