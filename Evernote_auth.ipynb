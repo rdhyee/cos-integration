{
 "cells": [
  {
   "cell_type": "markdown",
   "metadata": {},
   "source": [
    "https://dev.evernote.com/doc/articles/authentication.php\n",
    "\n",
    "Let's draw from https://requests-oauthlib.readthedocs.org/en/latest/examples/bitbucket.html (BitBucket also uses OAuth 1.0a, right?)"
   ]
  },
  {
   "cell_type": "code",
   "execution_count": null,
   "metadata": {
    "collapsed": false
   },
   "outputs": [],
   "source": [
    "from evernote.edam.notestore.ttypes import (NoteFilter,\n",
    "                                            NotesMetadataResultSpec\n",
    "                                           )\n",
    "from settings import (EVERNOTE_CLIENT_ID, EVERNOTE_CLIENT_SECRET, EVERNOTE_SANDBOX)\n",
    "import requests_oauthlib"
   ]
  },
  {
   "cell_type": "code",
   "execution_count": null,
   "metadata": {
    "collapsed": true
   },
   "outputs": [],
   "source": [
    "# Credentials you get from adding a new consumer in bitbucket -> manage account\n",
    "# -> integrated applications.\n",
    "\n",
    "key = EVERNOTE_CLIENT_ID\n",
    "secret = EVERNOTE_CLIENT_SECRET\n",
    "sandbox = EVERNOTE_SANDBOX"
   ]
  },
  {
   "cell_type": "code",
   "execution_count": null,
   "metadata": {
    "collapsed": false
   },
   "outputs": [],
   "source": [
    "# OAuth endpoints given in the Evernote API documentation\n",
    "# https://dev.evernote.com/doc/articles/authentication.php\n",
    "\n",
    "# https://sandbox.evernote.com/oauth\n",
    "# https://sandbox.evernote.com/oauth?oauth_callback=http://www.foo.com&oauth_consumer_key=sample-api-key-4121&oauth_nonce=3166905818410889691&oauth_signature=T0+xCYjTiyz7GZiElg1uQaHGQ6I=&oauth_signature_method=HMAC-SHA1&oauth_timestamp=1429565574&oauth_version=1.0\n",
    "\n",
    "#request_token_url = 'https://bitbucket.org/!api/1.0/oauth/request_token'\n",
    "\n",
    "\n",
    "BASE_URL = \"https://www.evernote.com\" if not sandbox  \\\n",
    "           else \"https://sandbox.evernote.com\"\n",
    "    \n",
    "\n",
    "request_token_url = '{}/oauth'.format(BASE_URL)\n",
    "\n",
    "# authorization_base_url = 'https://bitbucket.org/!api/1.0/oauth/authenticate'\n",
    "authorization_base_url = '{}/OAuth.action'.format(BASE_URL)\n",
    "\n",
    "access_token_url = '{}/oauth'.format(BASE_URL)"
   ]
  },
  {
   "cell_type": "code",
   "execution_count": null,
   "metadata": {
    "collapsed": false
   },
   "outputs": [],
   "source": [
    "# 2. Fetch a request token\n",
    "from requests_oauthlib import OAuth1Session\n",
    "evernote = OAuth1Session(key, client_secret=secret,\n",
    "         callback_uri='http://127.0.0.1:5000/callback')\n",
    "fetch_response = evernote.fetch_request_token(request_token_url)\n",
    "\n",
    "resource_owner_key = fetch_response.get('oauth_token')\n",
    "resource_owner_secret = fetch_response.get('oauth_token_secret')\n"
   ]
  },
  {
   "cell_type": "code",
   "execution_count": null,
   "metadata": {
    "collapsed": false
   },
   "outputs": [],
   "source": [
    "# 3. Redirect user to Evernote for authorization\n",
    "authorization_url = evernote.authorization_url(authorization_base_url)\n",
    "print ('Please go here and authorize,', authorization_url)"
   ]
  },
  {
   "cell_type": "code",
   "execution_count": null,
   "metadata": {
    "collapsed": false
   },
   "outputs": [],
   "source": [
    "# 4. Get the authorization verifier code from the callback url\n",
    "redirect_response = raw_input('Paste the full redirect URL here:')\n",
    "oauth_response = evernote.parse_authorization_response(redirect_response)\n",
    "verifier = oauth_response.get('oauth_verifier')"
   ]
  },
  {
   "cell_type": "code",
   "execution_count": null,
   "metadata": {
    "collapsed": false
   },
   "outputs": [],
   "source": [
    "# instantiate a new OAuth1Session (to model how we'd do this in a web app)\n",
    "\n",
    "evernote2 = OAuth1Session(key,\n",
    "                          client_secret=secret,\n",
    "                          resource_owner_key=resource_owner_key,\n",
    "                          resource_owner_secret=resource_owner_secret)\n",
    "\n",
    "token_dict = evernote.fetch_access_token(access_token_url)"
   ]
  },
  {
   "cell_type": "code",
   "execution_count": null,
   "metadata": {
    "collapsed": false
   },
   "outputs": [],
   "source": [
    "# 5. Fetch the access token\n",
    "#token_dict = evernote.fetch_access_token(access_token_url)\n",
    "#token_dict"
   ]
  },
  {
   "cell_type": "code",
   "execution_count": null,
   "metadata": {
    "collapsed": false
   },
   "outputs": [],
   "source": [
    "# 6. Fetch a protected resource, i.e. user profile\n",
    "# https://github.com/evernote/evernote-sdk-python/blob/master/sample/client/EDAMTest.py\n",
    "\n",
    "import hashlib\n",
    "import binascii\n",
    "import evernote.edam.userstore.constants as UserStoreConstants\n",
    "import evernote.edam.type.ttypes as Types\n",
    "\n",
    "from evernote.api.client import EvernoteClient\n",
    "\n",
    "auth_token = token_dict[u'oauth_token']\n",
    "client = EvernoteClient(token=auth_token, sandbox=sandbox)\n",
    "\n",
    "user_store = client.get_user_store()\n",
    "\n",
    "version_ok = user_store.checkVersion(\n",
    "    \"Evernote EDAMTest (Python)\",\n",
    "    UserStoreConstants.EDAM_VERSION_MAJOR,\n",
    "    UserStoreConstants.EDAM_VERSION_MINOR\n",
    ")\n",
    "print \"Is my Evernote API version up to date? \", str(version_ok)\n",
    "print \"\"\n",
    "if not version_ok:\n",
    "    exit(1)\n",
    "\n",
    "note_store = client.get_note_store()\n",
    "\n",
    "# List all of the notebooks in the user's account\n",
    "notebooks = note_store.listNotebooks()"
   ]
  },
  {
   "cell_type": "code",
   "execution_count": null,
   "metadata": {
    "collapsed": false
   },
   "outputs": [],
   "source": [
    "[(notebook.name, notebook.guid) for notebook in notebooks]"
   ]
  },
  {
   "cell_type": "code",
   "execution_count": null,
   "metadata": {
    "collapsed": false
   },
   "outputs": [],
   "source": [
    "# now get number of notes in a notebook\n",
    "\n",
    "OSF_NOTEBOOK_GUID = '014e8f86-110e-4745-bfee-4b21d8c6b51d'\n",
    "counts = note_store.findNoteCounts(NoteFilter(), False)\n",
    "counts.notebookCounts.get(OSF_NOTEBOOK_GUID)"
   ]
  },
  {
   "cell_type": "code",
   "execution_count": null,
   "metadata": {
    "collapsed": true
   },
   "outputs": [],
   "source": [
    "# get notes metadata from notebook\n",
    "\n",
    "def notes_metadata(client, **input_kw):\n",
    "    \"\"\" \"\"\"\n",
    "    # http://dev.evernote.com/documentation/reference/NoteStore.html#Fn_NoteStore_findNotesMetadata\n",
    "\n",
    "    noteStore = client.get_note_store()\n",
    "    \n",
    "    # pull out offset and page_size value if supplied\n",
    "    offset = input_kw.pop(\"offset\", 0)\n",
    "    page_size = input_kw.pop(\"page_size\", 100)\n",
    "\n",
    "    # let's update any keywords that are updated\n",
    "    # http://dev.evernote.com/documentation/reference/NoteStore.html#Struct_NotesMetadataResultSpec\n",
    "\n",
    "    include_kw = {\n",
    "        'includeTitle':False,\n",
    "        'includeContentLength':False,\n",
    "        'includeCreated':False,\n",
    "        'includeUpdated':False,\n",
    "        'includeDeleted':False,\n",
    "        'includeUpdateSequenceNum':False,\n",
    "        'includeNotebookGuid':False,\n",
    "        'includeTagGuids':False,\n",
    "        'includeAttributes':False,\n",
    "        'includeLargestResourceMime':False,\n",
    "        'includeLargestResourceSize':False\n",
    "    }\n",
    "\n",
    "    include_kw.update([(k, input_kw[k]) for k in set(input_kw.keys()) & set(include_kw.keys())])\n",
    "\n",
    "    # keywords aimed at NoteFilter\n",
    "    # http://dev.evernote.com/documentation/reference/NoteStore.html#Struct_NoteFilter\n",
    "    filter_kw_list = ('order', 'ascending', 'words', 'notebookGuid', 'tagGuids', 'timeZone', 'inactive', 'emphasized')\n",
    "    filter_kw = dict([(k, input_kw[k]) for k in set(filter_kw_list) & set(input_kw.keys())])\n",
    "\n",
    "    # what possible parameters are aimed at NoteFilter\n",
    "    #order\ti32\t\toptional\n",
    "    #ascending\tbool\t\toptional\n",
    "    #words\tstring\t\toptional\n",
    "    #notebookGuid\tTypes.Guid\t\toptional\n",
    "    #tagGuids\tlist<Types.Guid>\t\toptional\n",
    "    #timeZone\tstring\t\toptional\n",
    "    #inactive   bool\n",
    "    #emphasized string\n",
    "\n",
    "    more_nm = True\n",
    "\n",
    "    while more_nm:\n",
    "\n",
    "        # grab a page of data\n",
    "        note_meta = noteStore.findNotesMetadata(NoteFilter(**filter_kw), offset, page_size,\n",
    "                                    NotesMetadataResultSpec(**include_kw))\n",
    "\n",
    "        # yield each individually\n",
    "        for nm in note_meta.notes:\n",
    "            yield nm\n",
    "\n",
    "        # grab next page if there is more to grab\n",
    "        if len(note_meta.notes):\n",
    "            offset += len(note_meta.notes)\n",
    "        else:\n",
    "            more_nm = False"
   ]
  },
  {
   "cell_type": "code",
   "execution_count": null,
   "metadata": {
    "collapsed": false
   },
   "outputs": [],
   "source": [
    "notes = list(notes_metadata(client, notebookGuid=OSF_NOTEBOOK_GUID, \n",
    "                    includeTitle=True, \n",
    "                    includeUpdated=True,\n",
    "                    includeCreated=True))"
   ]
  },
  {
   "cell_type": "code",
   "execution_count": null,
   "metadata": {
    "collapsed": false
   },
   "outputs": [],
   "source": [
    "notes[0].title, notes[0].guid"
   ]
  },
  {
   "cell_type": "code",
   "execution_count": null,
   "metadata": {
    "collapsed": true
   },
   "outputs": [],
   "source": []
  }
 ],
 "metadata": {
  "kernelspec": {
   "display_name": "Python 2",
   "language": "python",
   "name": "python2"
  },
  "language_info": {
   "codemirror_mode": {
    "name": "ipython",
    "version": 2
   },
   "file_extension": ".py",
   "mimetype": "text/x-python",
   "name": "python",
   "nbconvert_exporter": "python",
   "pygments_lexer": "ipython2",
   "version": "2.7.11"
  }
 },
 "nbformat": 4,
 "nbformat_minor": 0
}
