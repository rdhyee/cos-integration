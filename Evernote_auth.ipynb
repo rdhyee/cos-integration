{
 "cells": [
  {
   "cell_type": "markdown",
   "metadata": {},
   "source": [
    "https://dev.evernote.com/doc/articles/authentication.php\n",
    "\n",
    "Let's draw from https://requests-oauthlib.readthedocs.org/en/latest/examples/bitbucket.html (BitBucket also uses OAuth 1.0a, right?)"
   ]
  },
  {
   "cell_type": "code",
   "execution_count": 1,
   "metadata": {
    "collapsed": true
   },
   "outputs": [],
   "source": [
    "from settings import EVERNOTE_CONSUMER_KEY, EVERNOTE_CONSUMER_SECRET\n",
    "import requests_oauthlib"
   ]
  },
  {
   "cell_type": "code",
   "execution_count": 2,
   "metadata": {
    "collapsed": true
   },
   "outputs": [],
   "source": [
    "# Credentials you get from adding a new consumer in bitbucket -> manage account\n",
    "# -> integrated applications.\n",
    "\n",
    "key = EVERNOTE_CONSUMER_KEY\n",
    "secret = EVERNOTE_CONSUMER_SECRET"
   ]
  },
  {
   "cell_type": "code",
   "execution_count": 3,
   "metadata": {
    "collapsed": true
   },
   "outputs": [],
   "source": [
    "# OAuth endpoints given in the Evernote API documentation\n",
    "# https://dev.evernote.com/doc/articles/authentication.php\n",
    "\n",
    "# https://sandbox.evernote.com/oauth\n",
    "# https://sandbox.evernote.com/oauth?oauth_callback=http://www.foo.com&oauth_consumer_key=sample-api-key-4121&oauth_nonce=3166905818410889691&oauth_signature=T0+xCYjTiyz7GZiElg1uQaHGQ6I=&oauth_signature_method=HMAC-SHA1&oauth_timestamp=1429565574&oauth_version=1.0\n",
    "\n",
    "#request_token_url = 'https://bitbucket.org/!api/1.0/oauth/request_token'\n",
    "request_token_url = 'https://sandbox.evernote.com/oauth'\n",
    "\n",
    "# authorization_base_url = 'https://bitbucket.org/!api/1.0/oauth/authenticate'\n",
    "authorization_base_url = 'https://sandbox.evernote.com/OAuth.action'\n",
    "\n",
    "access_token_url = 'https://sandbox.evernote.com/oauth'"
   ]
  },
  {
   "cell_type": "code",
   "execution_count": 4,
   "metadata": {
    "collapsed": false
   },
   "outputs": [],
   "source": [
    "# 2. Fetch a request token\n",
    "from requests_oauthlib import OAuth1Session\n",
    "evernote = OAuth1Session(key, client_secret=secret,\n",
    "         callback_uri='http://127.0.0.1:5000/callback')\n",
    "fetch_response = evernote.fetch_request_token(request_token_url)\n",
    "\n",
    "resource_owner_key = fetch_response.get('oauth_token')\n",
    "resource_owner_secret = fetch_response.get('oauth_token_secret')\n"
   ]
  },
  {
   "cell_type": "code",
   "execution_count": 5,
   "metadata": {
    "collapsed": false
   },
   "outputs": [
    {
     "name": "stdout",
     "output_type": "stream",
     "text": [
      "('Please go here and authorize,', u'https://sandbox.evernote.com/OAuth.action?oauth_token=rdhyee-9876.150D92F3684.687474703A2F2F3132372E302E302E313A353030302F63616C6C6261636B.B4F17030A4F22E95176B90D453FB114B')\n"
     ]
    }
   ],
   "source": [
    "# 3. Redirect user to Evernote for authorization\n",
    "authorization_url = evernote.authorization_url(authorization_base_url)\n",
    "print ('Please go here and authorize,', authorization_url)"
   ]
  },
  {
   "cell_type": "code",
   "execution_count": 6,
   "metadata": {
    "collapsed": false
   },
   "outputs": [
    {
     "name": "stdout",
     "output_type": "stream",
     "text": [
      "Paste the full redirect URL here:http://127.0.0.1:5000/callback/?oauth_token=rdhyee-9876.150D92F3684.687474703A2F2F3132372E302E302E313A353030302F63616C6C6261636B.B4F17030A4F22E95176B90D453FB114B&oauth_verifier=75282DB05E5966A38C14386194E5CFE5&sandbox_lnb=false\n"
     ]
    }
   ],
   "source": [
    "# 4. Get the authorization verifier code from the callback url\n",
    "redirect_response = raw_input('Paste the full redirect URL here:')\n",
    "oauth_response = evernote.parse_authorization_response(redirect_response)\n",
    "verifier = oauth_response.get('oauth_verifier')"
   ]
  },
  {
   "cell_type": "code",
   "execution_count": 7,
   "metadata": {
    "collapsed": false
   },
   "outputs": [],
   "source": [
    "# instantiate a new OAuth1Session (to model how we'd do this in a web app)\n",
    "\n",
    "evernote2 = OAuth1Session(key,\n",
    "                          client_secret=secret,\n",
    "                          resource_owner_key=resource_owner_key,\n",
    "                          resource_owner_secret=resource_owner_secret)\n",
    "\n",
    "token_dict = evernote.fetch_access_token(access_token_url)"
   ]
  },
  {
   "cell_type": "code",
   "execution_count": null,
   "metadata": {
    "collapsed": false
   },
   "outputs": [],
   "source": [
    "# 5. Fetch the access token\n",
    "#token_dict = evernote.fetch_access_token(access_token_url)\n",
    "#token_dict"
   ]
  },
  {
   "cell_type": "code",
   "execution_count": 8,
   "metadata": {
    "collapsed": false
   },
   "outputs": [
    {
     "name": "stdout",
     "output_type": "stream",
     "text": [
      "Is my Evernote API version up to date?  True\n",
      "\n"
     ]
    }
   ],
   "source": [
    "# 6. Fetch a protected resource, i.e. user profile\n",
    "# https://github.com/evernote/evernote-sdk-python/blob/master/sample/client/EDAMTest.py\n",
    "\n",
    "import hashlib\n",
    "import binascii\n",
    "import evernote.edam.userstore.constants as UserStoreConstants\n",
    "import evernote.edam.type.ttypes as Types\n",
    "\n",
    "from evernote.api.client import EvernoteClient\n",
    "\n",
    "auth_token = token_dict[u'oauth_token']\n",
    "client = EvernoteClient(token=auth_token, sandbox=True)\n",
    "\n",
    "user_store = client.get_user_store()\n",
    "\n",
    "version_ok = user_store.checkVersion(\n",
    "    \"Evernote EDAMTest (Python)\",\n",
    "    UserStoreConstants.EDAM_VERSION_MAJOR,\n",
    "    UserStoreConstants.EDAM_VERSION_MINOR\n",
    ")\n",
    "print \"Is my Evernote API version up to date? \", str(version_ok)\n",
    "print \"\"\n",
    "if not version_ok:\n",
    "    exit(1)\n",
    "\n",
    "note_store = client.get_note_store()\n",
    "\n",
    "# List all of the notebooks in the user's account\n",
    "notebooks = note_store.listNotebooks()"
   ]
  },
  {
   "cell_type": "code",
   "execution_count": 9,
   "metadata": {
    "collapsed": false
   },
   "outputs": [
    {
     "data": {
      "text/plain": [
       "[\"rdhyee's notebook\", 'OSF Evernote Integration']"
      ]
     },
     "execution_count": 9,
     "metadata": {},
     "output_type": "execute_result"
    }
   ],
   "source": [
    "[notebook.name for notebook in notebooks]"
   ]
  },
  {
   "cell_type": "code",
   "execution_count": null,
   "metadata": {
    "collapsed": true
   },
   "outputs": [],
   "source": []
  }
 ],
 "metadata": {
  "kernelspec": {
   "display_name": "Python 2",
   "language": "python",
   "name": "python2"
  },
  "language_info": {
   "codemirror_mode": {
    "name": "ipython",
    "version": 2
   },
   "file_extension": ".py",
   "mimetype": "text/x-python",
   "name": "python",
   "nbconvert_exporter": "python",
   "pygments_lexer": "ipython2",
   "version": "2.7.10"
  }
 },
 "nbformat": 4,
 "nbformat_minor": 0
}
